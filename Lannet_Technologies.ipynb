{
  "nbformat": 4,
  "nbformat_minor": 0,
  "metadata": {
    "colab": {
      "name": "Lannet Technologies.ipynb",
      "provenance": [],
      "collapsed_sections": [],
      "authorship_tag": "ABX9TyNcH6WPqbGT+e73Sh2x0gZs",
      "include_colab_link": true
    },
    "kernelspec": {
      "name": "python3",
      "display_name": "Python 3"
    }
  },
  "cells": [
    {
      "cell_type": "markdown",
      "metadata": {
        "id": "view-in-github",
        "colab_type": "text"
      },
      "source": [
        "<a href=\"https://colab.research.google.com/github/akaanksha17/Lannet-Technologies/blob/master/Lannet_Technologies.ipynb\" target=\"_parent\"><img src=\"https://colab.research.google.com/assets/colab-badge.svg\" alt=\"Open In Colab\"/></a>"
      ]
    },
    {
      "cell_type": "markdown",
      "metadata": {
        "id": "DC2vqE0IjSOo",
        "colab_type": "text"
      },
      "source": [
        "**1) Write a function in python that inputs a dataframe and identify which columns have date in them. Using these date columns make new columns which are difference between these columns taking 2 at a time.**"
      ]
    },
    {
      "cell_type": "code",
      "metadata": {
        "id": "DlmX8YNJisxj",
        "colab_type": "code",
        "colab": {}
      },
      "source": [
        "import numpy as np\n",
        "import pandas as pd\n",
        "from datetime import datetime\n",
        "\n",
        "Name= pd.DataFrame({'Name':\n",
        "['Charles Dickens',\n",
        "'Tom Cruise',\n",
        "'Jerry Jackson',\n",
        "'Bob Brock',\n",
        "'Joey Tribbiani',\n",
        "'Amy Santiago',\n",
        "'Jake P',\n",
        "'Lovely Singh',\n",
        "'Madonna P',\n",
        "'Ram L',\n",
        "'Sita S',\n",
        "'Geeta Sharma',\n",
        "'Dipika Rawat'\n",
        " ]})\n",
        "\n",
        "Arrival = pd.DataFrame({'Arrival':\n",
        "['20-May-12',\n",
        "'02/05/19',\n",
        "'2019/2/23',\n",
        "'2017-9-30',\n",
        "'17/03/19',\n",
        " '06/03/19',\n",
        " '07/07/18',\n",
        " '04/09/09',\n",
        " '2009/9/5',\n",
        " '2017-10-22',\n",
        " '05/04/18',\n",
        " '03-Feb-19',\n",
        " '2020-01-31'\n",
        "]})\n",
        "\n",
        "Location = pd.DataFrame({'Location':\n",
        "['USA',\n",
        "'USA',\n",
        "'Paris',\n",
        "'California',\n",
        "'USA',\n",
        " 'New York',\n",
        "'New York',\n",
        "'Chandigarh',\n",
        "'USA',\n",
        "'New Delhi',\n",
        "'New Delhi',\n",
        "'Chandigarh',\n",
        "'Mumbai'\n",
        "]})\n",
        "\n",
        "Nationality = pd.DataFrame({'Nationality':\n",
        "['American',\n",
        " 'American',\n",
        " 'American',\n",
        " 'American',\n",
        "'American',\n",
        " 'American',\n",
        " 'American',\n",
        " 'Indian',\n",
        " 'French',\n",
        " 'Indian',\n",
        " 'Indian',\n",
        " 'Indian',\n",
        " 'Indian'\n",
        "]})\n",
        "\n",
        "Departure = pd.DataFrame({'Departure':\n",
        "['04/03/20',\n",
        " '05-December-20',\n",
        " '17/04/20',\n",
        " '24/06/20',\n",
        " '2020-06-04',\n",
        " '2020-03-09',\n",
        " '2020/5/17',\n",
        " '2020-10-19',\n",
        " '2020/6/6',\n",
        " '04/05/20',\n",
        " '13/01/20',\n",
        " '2020/3/21',\n",
        " '2020-07-19'\n",
        " ]})\n",
        "Birthday=pd.DataFrame({'Birthday':\n",
        "['2/2/01',\n",
        " '2-jan-01',\n",
        " '4-feb-93',\n",
        " '9-01-94',\n",
        " '5 mar 95',\n",
        " '2002-feb-01',\n",
        " '03/03/01',\n",
        " 'feb 01 2003',\n",
        " 'mar-4-02',\n",
        " '5-5-5',\n",
        " '13/01/2001',\n",
        " '5/01/02',\n",
        " '4/8/1'\n",
        "]})"
      ],
      "execution_count": null,
      "outputs": []
    },
    {
      "cell_type": "code",
      "metadata": {
        "id": "a11Bt-GxjdsL",
        "colab_type": "code",
        "colab": {
          "base_uri": "https://localhost:8080/",
          "height": 447
        },
        "outputId": "751ace2e-2221-4d9e-b955-150cb46a42eb"
      },
      "source": [
        "df= pd.concat([Name,Arrival,Location,Nationality,Departure,Birthday], axis =1)\n",
        "df "
      ],
      "execution_count": null,
      "outputs": [
        {
          "output_type": "execute_result",
          "data": {
            "text/html": [
              "<div>\n",
              "<style scoped>\n",
              "    .dataframe tbody tr th:only-of-type {\n",
              "        vertical-align: middle;\n",
              "    }\n",
              "\n",
              "    .dataframe tbody tr th {\n",
              "        vertical-align: top;\n",
              "    }\n",
              "\n",
              "    .dataframe thead th {\n",
              "        text-align: right;\n",
              "    }\n",
              "</style>\n",
              "<table border=\"1\" class=\"dataframe\">\n",
              "  <thead>\n",
              "    <tr style=\"text-align: right;\">\n",
              "      <th></th>\n",
              "      <th>Name</th>\n",
              "      <th>Arrival</th>\n",
              "      <th>Location</th>\n",
              "      <th>Nationality</th>\n",
              "      <th>Departure</th>\n",
              "      <th>Birthday</th>\n",
              "    </tr>\n",
              "  </thead>\n",
              "  <tbody>\n",
              "    <tr>\n",
              "      <th>0</th>\n",
              "      <td>Charles Dickens</td>\n",
              "      <td>20-May-12</td>\n",
              "      <td>USA</td>\n",
              "      <td>American</td>\n",
              "      <td>04/03/20</td>\n",
              "      <td>2/2/01</td>\n",
              "    </tr>\n",
              "    <tr>\n",
              "      <th>1</th>\n",
              "      <td>Tom Cruise</td>\n",
              "      <td>02/05/19</td>\n",
              "      <td>USA</td>\n",
              "      <td>American</td>\n",
              "      <td>05-December-20</td>\n",
              "      <td>2-jan-01</td>\n",
              "    </tr>\n",
              "    <tr>\n",
              "      <th>2</th>\n",
              "      <td>Jerry Jackson</td>\n",
              "      <td>2019/2/23</td>\n",
              "      <td>Paris</td>\n",
              "      <td>American</td>\n",
              "      <td>17/04/20</td>\n",
              "      <td>4-feb-93</td>\n",
              "    </tr>\n",
              "    <tr>\n",
              "      <th>3</th>\n",
              "      <td>Bob Brock</td>\n",
              "      <td>2017-9-30</td>\n",
              "      <td>California</td>\n",
              "      <td>American</td>\n",
              "      <td>24/06/20</td>\n",
              "      <td>9-01-94</td>\n",
              "    </tr>\n",
              "    <tr>\n",
              "      <th>4</th>\n",
              "      <td>Joey Tribbiani</td>\n",
              "      <td>17/03/19</td>\n",
              "      <td>USA</td>\n",
              "      <td>American</td>\n",
              "      <td>2020-06-04</td>\n",
              "      <td>5 mar 95</td>\n",
              "    </tr>\n",
              "    <tr>\n",
              "      <th>5</th>\n",
              "      <td>Amy Santiago</td>\n",
              "      <td>06/03/19</td>\n",
              "      <td>New York</td>\n",
              "      <td>American</td>\n",
              "      <td>2020-03-09</td>\n",
              "      <td>2002-feb-01</td>\n",
              "    </tr>\n",
              "    <tr>\n",
              "      <th>6</th>\n",
              "      <td>Jake P</td>\n",
              "      <td>07/07/18</td>\n",
              "      <td>New York</td>\n",
              "      <td>American</td>\n",
              "      <td>2020/5/17</td>\n",
              "      <td>03/03/01</td>\n",
              "    </tr>\n",
              "    <tr>\n",
              "      <th>7</th>\n",
              "      <td>Lovely Singh</td>\n",
              "      <td>04/09/09</td>\n",
              "      <td>Chandigarh</td>\n",
              "      <td>Indian</td>\n",
              "      <td>2020-10-19</td>\n",
              "      <td>feb 01 2003</td>\n",
              "    </tr>\n",
              "    <tr>\n",
              "      <th>8</th>\n",
              "      <td>Madonna P</td>\n",
              "      <td>2009/9/5</td>\n",
              "      <td>USA</td>\n",
              "      <td>French</td>\n",
              "      <td>2020/6/6</td>\n",
              "      <td>mar-4-02</td>\n",
              "    </tr>\n",
              "    <tr>\n",
              "      <th>9</th>\n",
              "      <td>Ram L</td>\n",
              "      <td>2017-10-22</td>\n",
              "      <td>New Delhi</td>\n",
              "      <td>Indian</td>\n",
              "      <td>04/05/20</td>\n",
              "      <td>5-5-5</td>\n",
              "    </tr>\n",
              "    <tr>\n",
              "      <th>10</th>\n",
              "      <td>Sita S</td>\n",
              "      <td>05/04/18</td>\n",
              "      <td>New Delhi</td>\n",
              "      <td>Indian</td>\n",
              "      <td>13/01/20</td>\n",
              "      <td>13/01/2001</td>\n",
              "    </tr>\n",
              "    <tr>\n",
              "      <th>11</th>\n",
              "      <td>Geeta Sharma</td>\n",
              "      <td>03-Feb-19</td>\n",
              "      <td>Chandigarh</td>\n",
              "      <td>Indian</td>\n",
              "      <td>2020/3/21</td>\n",
              "      <td>5/01/02</td>\n",
              "    </tr>\n",
              "    <tr>\n",
              "      <th>12</th>\n",
              "      <td>Dipika Rawat</td>\n",
              "      <td>2020-01-31</td>\n",
              "      <td>Mumbai</td>\n",
              "      <td>Indian</td>\n",
              "      <td>2020-07-19</td>\n",
              "      <td>4/8/1</td>\n",
              "    </tr>\n",
              "  </tbody>\n",
              "</table>\n",
              "</div>"
            ],
            "text/plain": [
              "               Name     Arrival  ...       Departure     Birthday\n",
              "0   Charles Dickens   20-May-12  ...        04/03/20       2/2/01\n",
              "1        Tom Cruise    02/05/19  ...  05-December-20     2-jan-01\n",
              "2     Jerry Jackson   2019/2/23  ...        17/04/20     4-feb-93\n",
              "3         Bob Brock   2017-9-30  ...        24/06/20      9-01-94\n",
              "4    Joey Tribbiani    17/03/19  ...      2020-06-04     5 mar 95\n",
              "5      Amy Santiago    06/03/19  ...      2020-03-09  2002-feb-01\n",
              "6            Jake P    07/07/18  ...       2020/5/17     03/03/01\n",
              "7      Lovely Singh    04/09/09  ...      2020-10-19  feb 01 2003\n",
              "8         Madonna P    2009/9/5  ...        2020/6/6     mar-4-02\n",
              "9             Ram L  2017-10-22  ...        04/05/20        5-5-5\n",
              "10           Sita S    05/04/18  ...        13/01/20   13/01/2001\n",
              "11     Geeta Sharma   03-Feb-19  ...       2020/3/21      5/01/02\n",
              "12     Dipika Rawat  2020-01-31  ...      2020-07-19        4/8/1\n",
              "\n",
              "[13 rows x 6 columns]"
            ]
          },
          "metadata": {
            "tags": []
          },
          "execution_count": 2
        }
      ]
    },
    {
      "cell_type": "code",
      "metadata": {
        "id": "nU_kPIvuXtLo",
        "colab_type": "code",
        "colab": {}
      },
      "source": [
        "#from google.colab import files\n",
        "\n",
        "#df.to_csv('df.csv')\n",
        "#files.download('df.csv')"
      ],
      "execution_count": null,
      "outputs": []
    },
    {
      "cell_type": "code",
      "metadata": {
        "id": "tQzLCxsQ_XZk",
        "colab_type": "code",
        "colab": {
          "base_uri": "https://localhost:8080/",
          "height": 35
        },
        "outputId": "0ce8c7b0-3dbe-4a01-e551-a7a78d901720"
      },
      "source": [
        "type(df[\"Arrival\"][0])"
      ],
      "execution_count": null,
      "outputs": [
        {
          "output_type": "execute_result",
          "data": {
            "text/plain": [
              "str"
            ]
          },
          "metadata": {
            "tags": []
          },
          "execution_count": 4
        }
      ]
    },
    {
      "cell_type": "code",
      "metadata": {
        "id": "4u0ljMqrAP5n",
        "colab_type": "code",
        "colab": {
          "base_uri": "https://localhost:8080/",
          "height": 35
        },
        "outputId": "9dae32c7-e8b0-4239-92e1-37f80cd67338"
      },
      "source": [
        "df.columns"
      ],
      "execution_count": null,
      "outputs": [
        {
          "output_type": "execute_result",
          "data": {
            "text/plain": [
              "Index(['Name', 'Arrival', 'Location', 'Nationality', 'Departure', 'Birthday'], dtype='object')"
            ]
          },
          "metadata": {
            "tags": []
          },
          "execution_count": 5
        }
      ]
    },
    {
      "cell_type": "code",
      "metadata": {
        "id": "WBzJ_99rEKRa",
        "colab_type": "code",
        "colab": {
          "base_uri": "https://localhost:8080/",
          "height": 243
        },
        "outputId": "2bdfa44a-f754-444d-ec20-ee2acf38fb7f"
      },
      "source": [
        "df.info()"
      ],
      "execution_count": null,
      "outputs": [
        {
          "output_type": "stream",
          "text": [
            "<class 'pandas.core.frame.DataFrame'>\n",
            "RangeIndex: 13 entries, 0 to 12\n",
            "Data columns (total 6 columns):\n",
            " #   Column       Non-Null Count  Dtype \n",
            "---  ------       --------------  ----- \n",
            " 0   Name         13 non-null     object\n",
            " 1   Arrival      13 non-null     object\n",
            " 2   Location     13 non-null     object\n",
            " 3   Nationality  13 non-null     object\n",
            " 4   Departure    13 non-null     object\n",
            " 5   Birthday     13 non-null     object\n",
            "dtypes: object(6)\n",
            "memory usage: 752.0+ bytes\n"
          ],
          "name": "stdout"
        }
      ]
    },
    {
      "cell_type": "markdown",
      "metadata": {
        "id": "FKhhJO87FPWH",
        "colab_type": "text"
      },
      "source": [
        "# Date Parsing\n",
        "Dateutil is the most popular Python library to parse dates"
      ]
    },
    {
      "cell_type": "code",
      "metadata": {
        "id": "ENTr8X1WBjKW",
        "colab_type": "code",
        "colab": {
          "base_uri": "https://localhost:8080/",
          "height": 52
        },
        "outputId": "2b289a91-0a71-40bb-8b0d-9b1ded99ae18"
      },
      "source": [
        "pip install python-dateutil"
      ],
      "execution_count": null,
      "outputs": [
        {
          "output_type": "stream",
          "text": [
            "Requirement already satisfied: python-dateutil in /usr/local/lib/python3.6/dist-packages (2.8.1)\n",
            "Requirement already satisfied: six>=1.5 in /usr/local/lib/python3.6/dist-packages (from python-dateutil) (1.15.0)\n"
          ],
          "name": "stdout"
        }
      ]
    },
    {
      "cell_type": "code",
      "metadata": {
        "id": "ZXrSCpSIDE_l",
        "colab_type": "code",
        "colab": {}
      },
      "source": [
        "from dateutil.parser import *"
      ],
      "execution_count": null,
      "outputs": []
    },
    {
      "cell_type": "code",
      "metadata": {
        "id": "vY-D-Wj3DkIa",
        "colab_type": "code",
        "colab": {
          "base_uri": "https://localhost:8080/",
          "height": 35
        },
        "outputId": "34adb436-27be-4bfd-cf3b-d314eaf0e3bf"
      },
      "source": [
        "entered_date = \"3/2/14\"\n",
        "now = parse(entered_date)\n",
        "print(now.date())"
      ],
      "execution_count": null,
      "outputs": [
        {
          "output_type": "stream",
          "text": [
            "2014-03-02\n"
          ],
          "name": "stdout"
        }
      ]
    },
    {
      "cell_type": "code",
      "metadata": {
        "id": "9U68J8GUDuaO",
        "colab_type": "code",
        "colab": {
          "base_uri": "https://localhost:8080/",
          "height": 35
        },
        "outputId": "76854518-f4d2-491c-bfbd-ebbcdcd7f275"
      },
      "source": [
        "type(now.date())"
      ],
      "execution_count": null,
      "outputs": [
        {
          "output_type": "execute_result",
          "data": {
            "text/plain": [
              "datetime.date"
            ]
          },
          "metadata": {
            "tags": []
          },
          "execution_count": 10
        }
      ]
    },
    {
      "cell_type": "code",
      "metadata": {
        "id": "fXWcn8c4D3ru",
        "colab_type": "code",
        "colab": {
          "base_uri": "https://localhost:8080/",
          "height": 35
        },
        "outputId": "e64d6713-aed7-47e7-8e1a-130581aefa03"
      },
      "source": [
        "date_columns = set()\n",
        "\n",
        "for (i, column) in enumerate(df.columns):\n",
        "    \n",
        "    values_in_column = list(df[column])\n",
        "    \n",
        "    for element in values_in_column:\n",
        "        \n",
        "        try:\n",
        "            element = parse(element)\n",
        "            date_columns.add(i)\n",
        "        except:\n",
        "            pass\n",
        "\n",
        "date_columns = list(date_columns)\n",
        "print(date_columns)"
      ],
      "execution_count": null,
      "outputs": [
        {
          "output_type": "stream",
          "text": [
            "[1, 4, 5]\n"
          ],
          "name": "stdout"
        }
      ]
    },
    {
      "cell_type": "markdown",
      "metadata": {
        "id": "Dk_KN9raEnlO",
        "colab_type": "text"
      },
      "source": [
        "#### We have successfully obtained all columns with dates in them"
      ]
    },
    {
      "cell_type": "code",
      "metadata": {
        "id": "Ro36NWLgEjWE",
        "colab_type": "code",
        "colab": {
          "base_uri": "https://localhost:8080/",
          "height": 141
        },
        "outputId": "4910a4ce-611f-4bde-f7d3-206a1ef3532e"
      },
      "source": [
        "for date_column in date_columns:\n",
        "    print(date_column)\n",
        "    dates_list = list(df[df.columns[date_column]])\n",
        "    for (i, each_date) in enumerate(dates_list):\n",
        "        dates_list[i] = parse(each_date).date()\n",
        "        #print(each_date)\n",
        "    print(dates_list)     \n",
        "    df[df.columns[date_column]] = dates_list"
      ],
      "execution_count": null,
      "outputs": [
        {
          "output_type": "stream",
          "text": [
            "1\n",
            "[datetime.date(2012, 5, 20), datetime.date(2019, 2, 5), datetime.date(2019, 2, 23), datetime.date(2017, 9, 30), datetime.date(2019, 3, 17), datetime.date(2019, 6, 3), datetime.date(2018, 7, 7), datetime.date(2009, 4, 9), datetime.date(2009, 9, 5), datetime.date(2017, 10, 22), datetime.date(2018, 5, 4), datetime.date(2019, 2, 3), datetime.date(2020, 1, 31)]\n",
            "4\n",
            "[datetime.date(2020, 4, 3), datetime.date(2020, 12, 5), datetime.date(2020, 4, 17), datetime.date(2020, 6, 24), datetime.date(2020, 6, 4), datetime.date(2020, 3, 9), datetime.date(2020, 5, 17), datetime.date(2020, 10, 19), datetime.date(2020, 6, 6), datetime.date(2020, 4, 5), datetime.date(2020, 1, 13), datetime.date(2020, 3, 21), datetime.date(2020, 7, 19)]\n",
            "5\n",
            "[datetime.date(2001, 2, 2), datetime.date(2001, 1, 2), datetime.date(1993, 2, 4), datetime.date(1994, 9, 1), datetime.date(1995, 3, 5), datetime.date(2002, 2, 1), datetime.date(2001, 3, 3), datetime.date(2003, 2, 1), datetime.date(2002, 3, 4), datetime.date(2005, 5, 5), datetime.date(2001, 1, 13), datetime.date(2002, 5, 1), datetime.date(2001, 4, 8)]\n"
          ],
          "name": "stdout"
        }
      ]
    },
    {
      "cell_type": "code",
      "metadata": {
        "id": "57ago61dFf7t",
        "colab_type": "code",
        "colab": {
          "base_uri": "https://localhost:8080/",
          "height": 447
        },
        "outputId": "270e9c13-6ecf-4dac-b892-b80c7ad9126e"
      },
      "source": [
        "df"
      ],
      "execution_count": null,
      "outputs": [
        {
          "output_type": "execute_result",
          "data": {
            "text/html": [
              "<div>\n",
              "<style scoped>\n",
              "    .dataframe tbody tr th:only-of-type {\n",
              "        vertical-align: middle;\n",
              "    }\n",
              "\n",
              "    .dataframe tbody tr th {\n",
              "        vertical-align: top;\n",
              "    }\n",
              "\n",
              "    .dataframe thead th {\n",
              "        text-align: right;\n",
              "    }\n",
              "</style>\n",
              "<table border=\"1\" class=\"dataframe\">\n",
              "  <thead>\n",
              "    <tr style=\"text-align: right;\">\n",
              "      <th></th>\n",
              "      <th>Name</th>\n",
              "      <th>Arrival</th>\n",
              "      <th>Location</th>\n",
              "      <th>Nationality</th>\n",
              "      <th>Departure</th>\n",
              "      <th>Birthday</th>\n",
              "    </tr>\n",
              "  </thead>\n",
              "  <tbody>\n",
              "    <tr>\n",
              "      <th>0</th>\n",
              "      <td>Charles Dickens</td>\n",
              "      <td>2012-05-20</td>\n",
              "      <td>USA</td>\n",
              "      <td>American</td>\n",
              "      <td>2020-04-03</td>\n",
              "      <td>2001-02-02</td>\n",
              "    </tr>\n",
              "    <tr>\n",
              "      <th>1</th>\n",
              "      <td>Tom Cruise</td>\n",
              "      <td>2019-02-05</td>\n",
              "      <td>USA</td>\n",
              "      <td>American</td>\n",
              "      <td>2020-12-05</td>\n",
              "      <td>2001-01-02</td>\n",
              "    </tr>\n",
              "    <tr>\n",
              "      <th>2</th>\n",
              "      <td>Jerry Jackson</td>\n",
              "      <td>2019-02-23</td>\n",
              "      <td>Paris</td>\n",
              "      <td>American</td>\n",
              "      <td>2020-04-17</td>\n",
              "      <td>1993-02-04</td>\n",
              "    </tr>\n",
              "    <tr>\n",
              "      <th>3</th>\n",
              "      <td>Bob Brock</td>\n",
              "      <td>2017-09-30</td>\n",
              "      <td>California</td>\n",
              "      <td>American</td>\n",
              "      <td>2020-06-24</td>\n",
              "      <td>1994-09-01</td>\n",
              "    </tr>\n",
              "    <tr>\n",
              "      <th>4</th>\n",
              "      <td>Joey Tribbiani</td>\n",
              "      <td>2019-03-17</td>\n",
              "      <td>USA</td>\n",
              "      <td>American</td>\n",
              "      <td>2020-06-04</td>\n",
              "      <td>1995-03-05</td>\n",
              "    </tr>\n",
              "    <tr>\n",
              "      <th>5</th>\n",
              "      <td>Amy Santiago</td>\n",
              "      <td>2019-06-03</td>\n",
              "      <td>New York</td>\n",
              "      <td>American</td>\n",
              "      <td>2020-03-09</td>\n",
              "      <td>2002-02-01</td>\n",
              "    </tr>\n",
              "    <tr>\n",
              "      <th>6</th>\n",
              "      <td>Jake P</td>\n",
              "      <td>2018-07-07</td>\n",
              "      <td>New York</td>\n",
              "      <td>American</td>\n",
              "      <td>2020-05-17</td>\n",
              "      <td>2001-03-03</td>\n",
              "    </tr>\n",
              "    <tr>\n",
              "      <th>7</th>\n",
              "      <td>Lovely Singh</td>\n",
              "      <td>2009-04-09</td>\n",
              "      <td>Chandigarh</td>\n",
              "      <td>Indian</td>\n",
              "      <td>2020-10-19</td>\n",
              "      <td>2003-02-01</td>\n",
              "    </tr>\n",
              "    <tr>\n",
              "      <th>8</th>\n",
              "      <td>Madonna P</td>\n",
              "      <td>2009-09-05</td>\n",
              "      <td>USA</td>\n",
              "      <td>French</td>\n",
              "      <td>2020-06-06</td>\n",
              "      <td>2002-03-04</td>\n",
              "    </tr>\n",
              "    <tr>\n",
              "      <th>9</th>\n",
              "      <td>Ram L</td>\n",
              "      <td>2017-10-22</td>\n",
              "      <td>New Delhi</td>\n",
              "      <td>Indian</td>\n",
              "      <td>2020-04-05</td>\n",
              "      <td>2005-05-05</td>\n",
              "    </tr>\n",
              "    <tr>\n",
              "      <th>10</th>\n",
              "      <td>Sita S</td>\n",
              "      <td>2018-05-04</td>\n",
              "      <td>New Delhi</td>\n",
              "      <td>Indian</td>\n",
              "      <td>2020-01-13</td>\n",
              "      <td>2001-01-13</td>\n",
              "    </tr>\n",
              "    <tr>\n",
              "      <th>11</th>\n",
              "      <td>Geeta Sharma</td>\n",
              "      <td>2019-02-03</td>\n",
              "      <td>Chandigarh</td>\n",
              "      <td>Indian</td>\n",
              "      <td>2020-03-21</td>\n",
              "      <td>2002-05-01</td>\n",
              "    </tr>\n",
              "    <tr>\n",
              "      <th>12</th>\n",
              "      <td>Dipika Rawat</td>\n",
              "      <td>2020-01-31</td>\n",
              "      <td>Mumbai</td>\n",
              "      <td>Indian</td>\n",
              "      <td>2020-07-19</td>\n",
              "      <td>2001-04-08</td>\n",
              "    </tr>\n",
              "  </tbody>\n",
              "</table>\n",
              "</div>"
            ],
            "text/plain": [
              "               Name     Arrival    Location Nationality   Departure    Birthday\n",
              "0   Charles Dickens  2012-05-20         USA    American  2020-04-03  2001-02-02\n",
              "1        Tom Cruise  2019-02-05         USA    American  2020-12-05  2001-01-02\n",
              "2     Jerry Jackson  2019-02-23       Paris    American  2020-04-17  1993-02-04\n",
              "3         Bob Brock  2017-09-30  California    American  2020-06-24  1994-09-01\n",
              "4    Joey Tribbiani  2019-03-17         USA    American  2020-06-04  1995-03-05\n",
              "5      Amy Santiago  2019-06-03    New York    American  2020-03-09  2002-02-01\n",
              "6            Jake P  2018-07-07    New York    American  2020-05-17  2001-03-03\n",
              "7      Lovely Singh  2009-04-09  Chandigarh      Indian  2020-10-19  2003-02-01\n",
              "8         Madonna P  2009-09-05         USA      French  2020-06-06  2002-03-04\n",
              "9             Ram L  2017-10-22   New Delhi      Indian  2020-04-05  2005-05-05\n",
              "10           Sita S  2018-05-04   New Delhi      Indian  2020-01-13  2001-01-13\n",
              "11     Geeta Sharma  2019-02-03  Chandigarh      Indian  2020-03-21  2002-05-01\n",
              "12     Dipika Rawat  2020-01-31      Mumbai      Indian  2020-07-19  2001-04-08"
            ]
          },
          "metadata": {
            "tags": []
          },
          "execution_count": 13
        }
      ]
    },
    {
      "cell_type": "markdown",
      "metadata": {
        "id": "4iZPWKzHF8P9",
        "colab_type": "text"
      },
      "source": [
        "Now we have converted all possible dates which were in str format, into datetime.date format"
      ]
    },
    {
      "cell_type": "code",
      "metadata": {
        "id": "eMbKUeerF7JO",
        "colab_type": "code",
        "colab": {
          "base_uri": "https://localhost:8080/",
          "height": 35
        },
        "outputId": "c5b3edb6-9ae5-4ae9-dcfb-24bc72364e88"
      },
      "source": [
        "type(df['Arrival'][0])"
      ],
      "execution_count": null,
      "outputs": [
        {
          "output_type": "execute_result",
          "data": {
            "text/plain": [
              "datetime.date"
            ]
          },
          "metadata": {
            "tags": []
          },
          "execution_count": 14
        }
      ]
    },
    {
      "cell_type": "code",
      "metadata": {
        "id": "Wn91ruuTGFMB",
        "colab_type": "code",
        "colab": {
          "base_uri": "https://localhost:8080/",
          "height": 35
        },
        "outputId": "597645eb-6a59-4db3-a7b2-ad170c024de1"
      },
      "source": [
        "df['Departure'][12] - df['Arrival'][12]"
      ],
      "execution_count": null,
      "outputs": [
        {
          "output_type": "execute_result",
          "data": {
            "text/plain": [
              "datetime.timedelta(170)"
            ]
          },
          "metadata": {
            "tags": []
          },
          "execution_count": 15
        }
      ]
    },
    {
      "cell_type": "code",
      "metadata": {
        "id": "T5X9dAVHGNG5",
        "colab_type": "code",
        "colab": {
          "base_uri": "https://localhost:8080/",
          "height": 35
        },
        "outputId": "226fae6b-d5ec-44c2-837a-4f26ff03f361"
      },
      "source": [
        "(df['Departure'][0] - df['Arrival'][0]).days"
      ],
      "execution_count": null,
      "outputs": [
        {
          "output_type": "execute_result",
          "data": {
            "text/plain": [
              "2875"
            ]
          },
          "metadata": {
            "tags": []
          },
          "execution_count": 16
        }
      ]
    },
    {
      "cell_type": "code",
      "metadata": {
        "id": "-K3MYi4tGWLN",
        "colab_type": "code",
        "colab": {}
      },
      "source": [
        "df['Difference(in days)'] = df['Departure'] - df['Arrival']\n",
        "#df\n",
        "df['Difference(in days)'] = df['Difference(in days)'].apply(lambda x : x.days)"
      ],
      "execution_count": null,
      "outputs": []
    },
    {
      "cell_type": "code",
      "metadata": {
        "id": "ri0k72vTGZho",
        "colab_type": "code",
        "colab": {
          "base_uri": "https://localhost:8080/",
          "height": 447
        },
        "outputId": "94a1dd35-3a00-44a2-947b-c915b4e5f90d"
      },
      "source": [
        "df"
      ],
      "execution_count": null,
      "outputs": [
        {
          "output_type": "execute_result",
          "data": {
            "text/html": [
              "<div>\n",
              "<style scoped>\n",
              "    .dataframe tbody tr th:only-of-type {\n",
              "        vertical-align: middle;\n",
              "    }\n",
              "\n",
              "    .dataframe tbody tr th {\n",
              "        vertical-align: top;\n",
              "    }\n",
              "\n",
              "    .dataframe thead th {\n",
              "        text-align: right;\n",
              "    }\n",
              "</style>\n",
              "<table border=\"1\" class=\"dataframe\">\n",
              "  <thead>\n",
              "    <tr style=\"text-align: right;\">\n",
              "      <th></th>\n",
              "      <th>Name</th>\n",
              "      <th>Arrival</th>\n",
              "      <th>Location</th>\n",
              "      <th>Nationality</th>\n",
              "      <th>Departure</th>\n",
              "      <th>Birthday</th>\n",
              "      <th>Difference(in days)</th>\n",
              "    </tr>\n",
              "  </thead>\n",
              "  <tbody>\n",
              "    <tr>\n",
              "      <th>0</th>\n",
              "      <td>Charles Dickens</td>\n",
              "      <td>2012-05-20</td>\n",
              "      <td>USA</td>\n",
              "      <td>American</td>\n",
              "      <td>2020-04-03</td>\n",
              "      <td>2001-02-02</td>\n",
              "      <td>2875</td>\n",
              "    </tr>\n",
              "    <tr>\n",
              "      <th>1</th>\n",
              "      <td>Tom Cruise</td>\n",
              "      <td>2019-02-05</td>\n",
              "      <td>USA</td>\n",
              "      <td>American</td>\n",
              "      <td>2020-12-05</td>\n",
              "      <td>2001-01-02</td>\n",
              "      <td>669</td>\n",
              "    </tr>\n",
              "    <tr>\n",
              "      <th>2</th>\n",
              "      <td>Jerry Jackson</td>\n",
              "      <td>2019-02-23</td>\n",
              "      <td>Paris</td>\n",
              "      <td>American</td>\n",
              "      <td>2020-04-17</td>\n",
              "      <td>1993-02-04</td>\n",
              "      <td>419</td>\n",
              "    </tr>\n",
              "    <tr>\n",
              "      <th>3</th>\n",
              "      <td>Bob Brock</td>\n",
              "      <td>2017-09-30</td>\n",
              "      <td>California</td>\n",
              "      <td>American</td>\n",
              "      <td>2020-06-24</td>\n",
              "      <td>1994-09-01</td>\n",
              "      <td>998</td>\n",
              "    </tr>\n",
              "    <tr>\n",
              "      <th>4</th>\n",
              "      <td>Joey Tribbiani</td>\n",
              "      <td>2019-03-17</td>\n",
              "      <td>USA</td>\n",
              "      <td>American</td>\n",
              "      <td>2020-06-04</td>\n",
              "      <td>1995-03-05</td>\n",
              "      <td>445</td>\n",
              "    </tr>\n",
              "    <tr>\n",
              "      <th>5</th>\n",
              "      <td>Amy Santiago</td>\n",
              "      <td>2019-06-03</td>\n",
              "      <td>New York</td>\n",
              "      <td>American</td>\n",
              "      <td>2020-03-09</td>\n",
              "      <td>2002-02-01</td>\n",
              "      <td>280</td>\n",
              "    </tr>\n",
              "    <tr>\n",
              "      <th>6</th>\n",
              "      <td>Jake P</td>\n",
              "      <td>2018-07-07</td>\n",
              "      <td>New York</td>\n",
              "      <td>American</td>\n",
              "      <td>2020-05-17</td>\n",
              "      <td>2001-03-03</td>\n",
              "      <td>680</td>\n",
              "    </tr>\n",
              "    <tr>\n",
              "      <th>7</th>\n",
              "      <td>Lovely Singh</td>\n",
              "      <td>2009-04-09</td>\n",
              "      <td>Chandigarh</td>\n",
              "      <td>Indian</td>\n",
              "      <td>2020-10-19</td>\n",
              "      <td>2003-02-01</td>\n",
              "      <td>4211</td>\n",
              "    </tr>\n",
              "    <tr>\n",
              "      <th>8</th>\n",
              "      <td>Madonna P</td>\n",
              "      <td>2009-09-05</td>\n",
              "      <td>USA</td>\n",
              "      <td>French</td>\n",
              "      <td>2020-06-06</td>\n",
              "      <td>2002-03-04</td>\n",
              "      <td>3927</td>\n",
              "    </tr>\n",
              "    <tr>\n",
              "      <th>9</th>\n",
              "      <td>Ram L</td>\n",
              "      <td>2017-10-22</td>\n",
              "      <td>New Delhi</td>\n",
              "      <td>Indian</td>\n",
              "      <td>2020-04-05</td>\n",
              "      <td>2005-05-05</td>\n",
              "      <td>896</td>\n",
              "    </tr>\n",
              "    <tr>\n",
              "      <th>10</th>\n",
              "      <td>Sita S</td>\n",
              "      <td>2018-05-04</td>\n",
              "      <td>New Delhi</td>\n",
              "      <td>Indian</td>\n",
              "      <td>2020-01-13</td>\n",
              "      <td>2001-01-13</td>\n",
              "      <td>619</td>\n",
              "    </tr>\n",
              "    <tr>\n",
              "      <th>11</th>\n",
              "      <td>Geeta Sharma</td>\n",
              "      <td>2019-02-03</td>\n",
              "      <td>Chandigarh</td>\n",
              "      <td>Indian</td>\n",
              "      <td>2020-03-21</td>\n",
              "      <td>2002-05-01</td>\n",
              "      <td>412</td>\n",
              "    </tr>\n",
              "    <tr>\n",
              "      <th>12</th>\n",
              "      <td>Dipika Rawat</td>\n",
              "      <td>2020-01-31</td>\n",
              "      <td>Mumbai</td>\n",
              "      <td>Indian</td>\n",
              "      <td>2020-07-19</td>\n",
              "      <td>2001-04-08</td>\n",
              "      <td>170</td>\n",
              "    </tr>\n",
              "  </tbody>\n",
              "</table>\n",
              "</div>"
            ],
            "text/plain": [
              "               Name     Arrival  ...    Birthday Difference(in days)\n",
              "0   Charles Dickens  2012-05-20  ...  2001-02-02                2875\n",
              "1        Tom Cruise  2019-02-05  ...  2001-01-02                 669\n",
              "2     Jerry Jackson  2019-02-23  ...  1993-02-04                 419\n",
              "3         Bob Brock  2017-09-30  ...  1994-09-01                 998\n",
              "4    Joey Tribbiani  2019-03-17  ...  1995-03-05                 445\n",
              "5      Amy Santiago  2019-06-03  ...  2002-02-01                 280\n",
              "6            Jake P  2018-07-07  ...  2001-03-03                 680\n",
              "7      Lovely Singh  2009-04-09  ...  2003-02-01                4211\n",
              "8         Madonna P  2009-09-05  ...  2002-03-04                3927\n",
              "9             Ram L  2017-10-22  ...  2005-05-05                 896\n",
              "10           Sita S  2018-05-04  ...  2001-01-13                 619\n",
              "11     Geeta Sharma  2019-02-03  ...  2002-05-01                 412\n",
              "12     Dipika Rawat  2020-01-31  ...  2001-04-08                 170\n",
              "\n",
              "[13 rows x 7 columns]"
            ]
          },
          "metadata": {
            "tags": []
          },
          "execution_count": 18
        }
      ]
    },
    {
      "cell_type": "code",
      "metadata": {
        "id": "RQXfsuX3Gd7s",
        "colab_type": "code",
        "colab": {
          "base_uri": "https://localhost:8080/",
          "height": 35
        },
        "outputId": "82d3993b-adde-411f-89ce-4dd78a4b73f5"
      },
      "source": [
        "type(df[\"Difference(in days)\"][0])"
      ],
      "execution_count": null,
      "outputs": [
        {
          "output_type": "execute_result",
          "data": {
            "text/plain": [
              "numpy.int64"
            ]
          },
          "metadata": {
            "tags": []
          },
          "execution_count": 19
        }
      ]
    },
    {
      "cell_type": "markdown",
      "metadata": {
        "id": "3XafEwTzHUEH",
        "colab_type": "text"
      },
      "source": [
        "# Analyzing if data has any unacceptable values of date."
      ]
    },
    {
      "cell_type": "code",
      "metadata": {
        "id": "ylbocEx1Z-nD",
        "colab_type": "code",
        "colab": {
          "resources": {
            "http://localhost:8080/nbextensions/google.colab/files.js": {
              "data": "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",
              "ok": true,
              "headers": [
                [
                  "content-type",
                  "application/javascript"
                ]
              ],
              "status": 200,
              "status_text": ""
            }
          },
          "base_uri": "https://localhost:8080/",
          "height": 73
        },
        "outputId": "c8b4d73b-98cb-4f75-fef0-5334dc1e25bd"
      },
      "source": [
        "from google.colab import files\n",
        "uploaded = files.upload()"
      ],
      "execution_count": null,
      "outputs": [
        {
          "output_type": "display_data",
          "data": {
            "text/html": [
              "\n",
              "     <input type=\"file\" id=\"files-1982fb02-3046-4186-b949-0bf838330581\" name=\"files[]\" multiple disabled\n",
              "        style=\"border:none\" />\n",
              "     <output id=\"result-1982fb02-3046-4186-b949-0bf838330581\">\n",
              "      Upload widget is only available when the cell has been executed in the\n",
              "      current browser session. Please rerun this cell to enable.\n",
              "      </output>\n",
              "      <script src=\"/nbextensions/google.colab/files.js\"></script> "
            ],
            "text/plain": [
              "<IPython.core.display.HTML object>"
            ]
          },
          "metadata": {
            "tags": []
          }
        },
        {
          "output_type": "stream",
          "text": [
            "Saving df .csv to df .csv\n"
          ],
          "name": "stdout"
        }
      ]
    },
    {
      "cell_type": "code",
      "metadata": {
        "id": "fw7yfPirepKN",
        "colab_type": "code",
        "colab": {
          "base_uri": "https://localhost:8080/",
          "height": 447
        },
        "outputId": "c559b20f-939b-4e8d-de95-40861e29b322"
      },
      "source": [
        "df1 = pd.read_csv('df.csv',index_col=0)\n",
        "df1"
      ],
      "execution_count": null,
      "outputs": [
        {
          "output_type": "execute_result",
          "data": {
            "text/html": [
              "<div>\n",
              "<style scoped>\n",
              "    .dataframe tbody tr th:only-of-type {\n",
              "        vertical-align: middle;\n",
              "    }\n",
              "\n",
              "    .dataframe tbody tr th {\n",
              "        vertical-align: top;\n",
              "    }\n",
              "\n",
              "    .dataframe thead th {\n",
              "        text-align: right;\n",
              "    }\n",
              "</style>\n",
              "<table border=\"1\" class=\"dataframe\">\n",
              "  <thead>\n",
              "    <tr style=\"text-align: right;\">\n",
              "      <th></th>\n",
              "      <th>Name</th>\n",
              "      <th>Arrival</th>\n",
              "      <th>Location</th>\n",
              "      <th>Nationality</th>\n",
              "      <th>Departure</th>\n",
              "      <th>Birthday</th>\n",
              "    </tr>\n",
              "  </thead>\n",
              "  <tbody>\n",
              "    <tr>\n",
              "      <th>0</th>\n",
              "      <td>Charles Dickens</td>\n",
              "      <td>20-May-12</td>\n",
              "      <td>USA</td>\n",
              "      <td>American</td>\n",
              "      <td>04/03/20</td>\n",
              "      <td>2/2/01</td>\n",
              "    </tr>\n",
              "    <tr>\n",
              "      <th>1</th>\n",
              "      <td>Tom Cruise</td>\n",
              "      <td>02/05/19</td>\n",
              "      <td>USA</td>\n",
              "      <td>American</td>\n",
              "      <td>05-December-20</td>\n",
              "      <td>2-jan-01</td>\n",
              "    </tr>\n",
              "    <tr>\n",
              "      <th>2</th>\n",
              "      <td>Jerry Jackson</td>\n",
              "      <td>2019/2/23</td>\n",
              "      <td>Paris</td>\n",
              "      <td>American</td>\n",
              "      <td>17/04/20</td>\n",
              "      <td>4-feb-93</td>\n",
              "    </tr>\n",
              "    <tr>\n",
              "      <th>3</th>\n",
              "      <td>Bob Brock</td>\n",
              "      <td>2017-9-30</td>\n",
              "      <td>California</td>\n",
              "      <td>American</td>\n",
              "      <td>24/06/20</td>\n",
              "      <td>9-01-94</td>\n",
              "    </tr>\n",
              "    <tr>\n",
              "      <th>4</th>\n",
              "      <td>Joey Tribbiani</td>\n",
              "      <td>17/03/19</td>\n",
              "      <td>USA</td>\n",
              "      <td>American</td>\n",
              "      <td>2020-06-04</td>\n",
              "      <td>5 mar 95</td>\n",
              "    </tr>\n",
              "    <tr>\n",
              "      <th>5</th>\n",
              "      <td>Amy Santiago</td>\n",
              "      <td>06/03/19</td>\n",
              "      <td>New York</td>\n",
              "      <td>American</td>\n",
              "      <td>2020-03-09</td>\n",
              "      <td>2002-feb-01</td>\n",
              "    </tr>\n",
              "    <tr>\n",
              "      <th>6</th>\n",
              "      <td>Jake P</td>\n",
              "      <td>07/07/18</td>\n",
              "      <td>New York</td>\n",
              "      <td>American</td>\n",
              "      <td>2020/5/17</td>\n",
              "      <td>03/03/01</td>\n",
              "    </tr>\n",
              "    <tr>\n",
              "      <th>7</th>\n",
              "      <td>Lovely Singh</td>\n",
              "      <td>04/09/09</td>\n",
              "      <td>Chandigarh</td>\n",
              "      <td>Indian</td>\n",
              "      <td>2020-10-19</td>\n",
              "      <td>feb 01 2003</td>\n",
              "    </tr>\n",
              "    <tr>\n",
              "      <th>8</th>\n",
              "      <td>Madonna P</td>\n",
              "      <td>2009/9/5</td>\n",
              "      <td>USA</td>\n",
              "      <td>French</td>\n",
              "      <td>2020/6/6</td>\n",
              "      <td>mar-4-02</td>\n",
              "    </tr>\n",
              "    <tr>\n",
              "      <th>9</th>\n",
              "      <td>Ram L</td>\n",
              "      <td>2017-10-22</td>\n",
              "      <td>New Delhi</td>\n",
              "      <td>Indian</td>\n",
              "      <td>04/05/20</td>\n",
              "      <td>5-5-5</td>\n",
              "    </tr>\n",
              "    <tr>\n",
              "      <th>10</th>\n",
              "      <td>Sita S</td>\n",
              "      <td>05/04/18</td>\n",
              "      <td>New Delhi</td>\n",
              "      <td>Indian</td>\n",
              "      <td>13/01/20</td>\n",
              "      <td>13/01/2001</td>\n",
              "    </tr>\n",
              "    <tr>\n",
              "      <th>11</th>\n",
              "      <td>Geeta Sharma</td>\n",
              "      <td>03-Feb-19</td>\n",
              "      <td>Chandigarh</td>\n",
              "      <td>Indian</td>\n",
              "      <td>2020/3/21</td>\n",
              "      <td>5/01/02</td>\n",
              "    </tr>\n",
              "    <tr>\n",
              "      <th>12</th>\n",
              "      <td>Dipika Rawat</td>\n",
              "      <td>2020-01-31</td>\n",
              "      <td>Mumbai</td>\n",
              "      <td>Indian</td>\n",
              "      <td>2020-07-19</td>\n",
              "      <td>4/8/1</td>\n",
              "    </tr>\n",
              "  </tbody>\n",
              "</table>\n",
              "</div>"
            ],
            "text/plain": [
              "               Name     Arrival  ...       Departure     Birthday\n",
              "0   Charles Dickens   20-May-12  ...        04/03/20       2/2/01\n",
              "1        Tom Cruise    02/05/19  ...  05-December-20     2-jan-01\n",
              "2     Jerry Jackson   2019/2/23  ...        17/04/20     4-feb-93\n",
              "3         Bob Brock   2017-9-30  ...        24/06/20      9-01-94\n",
              "4    Joey Tribbiani    17/03/19  ...      2020-06-04     5 mar 95\n",
              "5      Amy Santiago    06/03/19  ...      2020-03-09  2002-feb-01\n",
              "6            Jake P    07/07/18  ...       2020/5/17     03/03/01\n",
              "7      Lovely Singh    04/09/09  ...      2020-10-19  feb 01 2003\n",
              "8         Madonna P    2009/9/5  ...        2020/6/6     mar-4-02\n",
              "9             Ram L  2017-10-22  ...        04/05/20        5-5-5\n",
              "10           Sita S    05/04/18  ...        13/01/20   13/01/2001\n",
              "11     Geeta Sharma   03-Feb-19  ...       2020/3/21      5/01/02\n",
              "12     Dipika Rawat  2020-01-31  ...      2020-07-19        4/8/1\n",
              "\n",
              "[13 rows x 6 columns]"
            ]
          },
          "metadata": {
            "tags": []
          },
          "execution_count": 22
        }
      ]
    },
    {
      "cell_type": "code",
      "metadata": {
        "id": "hPhEjofde1lY",
        "colab_type": "code",
        "colab": {
          "base_uri": "https://localhost:8080/",
          "height": 35
        },
        "outputId": "3e71b2d0-852d-4142-e1cd-91431939ef62"
      },
      "source": [
        "\n",
        "from dateutil.parser import *\n",
        "\n",
        "date_columns = set()\n",
        "\n",
        "for (i, column) in enumerate(df1.columns):\n",
        "    \n",
        "    values_in_column = list(df1[column])\n",
        "    \n",
        "    for element in values_in_column:\n",
        "        \n",
        "        try:\n",
        "            element = parse(element)\n",
        "            date_columns.add(i)\n",
        "        except:\n",
        "            pass\n",
        "\n",
        "date_columns = list(date_columns)\n",
        "print(date_columns)"
      ],
      "execution_count": null,
      "outputs": [
        {
          "output_type": "stream",
          "text": [
            "[1, 4, 5]\n"
          ],
          "name": "stdout"
        }
      ]
    },
    {
      "cell_type": "code",
      "metadata": {
        "id": "YQKn07BKfwCK",
        "colab_type": "code",
        "colab": {
          "base_uri": "https://localhost:8080/",
          "height": 141
        },
        "outputId": "5db0b2ee-4fab-481c-96b6-7032882ee2fc"
      },
      "source": [
        "from datetime import date\n",
        "\n",
        "for date_column in date_columns:\n",
        "    print(date_column)\n",
        "    dates_list = list(df1[df1.columns[date_column]])\n",
        "    for (i, each_date) in enumerate(dates_list):\n",
        "        try:\n",
        "            dates_list[i] = parse(each_date).date()\n",
        "            # parse all the 'str' dates into datetime dates format\n",
        "        except:\n",
        "            dates_list[i] = date.today()\n",
        "            # if it throws an exception, we will assign it todays date. \n",
        "    print(dates_list)     \n",
        "    df1[df1.columns[date_column]] = dates_list"
      ],
      "execution_count": null,
      "outputs": [
        {
          "output_type": "stream",
          "text": [
            "1\n",
            "[datetime.date(2012, 5, 20), datetime.date(2019, 2, 5), datetime.date(2019, 2, 23), datetime.date(2017, 9, 30), datetime.date(2019, 3, 17), datetime.date(2019, 6, 3), datetime.date(2018, 7, 7), datetime.date(2009, 4, 9), datetime.date(2009, 9, 5), datetime.date(2017, 10, 22), datetime.date(2018, 5, 4), datetime.date(2019, 2, 3), datetime.date(2020, 1, 31)]\n",
            "4\n",
            "[datetime.date(2020, 4, 3), datetime.date(2020, 12, 5), datetime.date(2020, 4, 17), datetime.date(2020, 6, 24), datetime.date(2020, 6, 4), datetime.date(2020, 3, 9), datetime.date(2020, 5, 17), datetime.date(2020, 10, 19), datetime.date(2020, 6, 6), datetime.date(2020, 4, 5), datetime.date(2020, 1, 13), datetime.date(2020, 3, 21), datetime.date(2020, 7, 19)]\n",
            "5\n",
            "[datetime.date(2001, 2, 2), datetime.date(2001, 1, 2), datetime.date(1993, 2, 4), datetime.date(1994, 9, 1), datetime.date(1995, 3, 5), datetime.date(2002, 2, 1), datetime.date(2001, 3, 3), datetime.date(2003, 2, 1), datetime.date(2002, 3, 4), datetime.date(2005, 5, 5), datetime.date(2001, 1, 13), datetime.date(2002, 5, 1), datetime.date(2001, 4, 8)]\n"
          ],
          "name": "stdout"
        }
      ]
    },
    {
      "cell_type": "code",
      "metadata": {
        "id": "Y3FsoCnif_x3",
        "colab_type": "code",
        "colab": {
          "base_uri": "https://localhost:8080/",
          "height": 447
        },
        "outputId": "d9fd8a55-5986-4d48-a5fe-86a58520f127"
      },
      "source": [
        "df1"
      ],
      "execution_count": null,
      "outputs": [
        {
          "output_type": "execute_result",
          "data": {
            "text/html": [
              "<div>\n",
              "<style scoped>\n",
              "    .dataframe tbody tr th:only-of-type {\n",
              "        vertical-align: middle;\n",
              "    }\n",
              "\n",
              "    .dataframe tbody tr th {\n",
              "        vertical-align: top;\n",
              "    }\n",
              "\n",
              "    .dataframe thead th {\n",
              "        text-align: right;\n",
              "    }\n",
              "</style>\n",
              "<table border=\"1\" class=\"dataframe\">\n",
              "  <thead>\n",
              "    <tr style=\"text-align: right;\">\n",
              "      <th></th>\n",
              "      <th>Name</th>\n",
              "      <th>Arrival</th>\n",
              "      <th>Location</th>\n",
              "      <th>Nationality</th>\n",
              "      <th>Departure</th>\n",
              "      <th>Birthday</th>\n",
              "    </tr>\n",
              "  </thead>\n",
              "  <tbody>\n",
              "    <tr>\n",
              "      <th>0</th>\n",
              "      <td>Charles Dickens</td>\n",
              "      <td>2012-05-20</td>\n",
              "      <td>USA</td>\n",
              "      <td>American</td>\n",
              "      <td>2020-04-03</td>\n",
              "      <td>2001-02-02</td>\n",
              "    </tr>\n",
              "    <tr>\n",
              "      <th>1</th>\n",
              "      <td>Tom Cruise</td>\n",
              "      <td>2019-02-05</td>\n",
              "      <td>USA</td>\n",
              "      <td>American</td>\n",
              "      <td>2020-12-05</td>\n",
              "      <td>2001-01-02</td>\n",
              "    </tr>\n",
              "    <tr>\n",
              "      <th>2</th>\n",
              "      <td>Jerry Jackson</td>\n",
              "      <td>2019-02-23</td>\n",
              "      <td>Paris</td>\n",
              "      <td>American</td>\n",
              "      <td>2020-04-17</td>\n",
              "      <td>1993-02-04</td>\n",
              "    </tr>\n",
              "    <tr>\n",
              "      <th>3</th>\n",
              "      <td>Bob Brock</td>\n",
              "      <td>2017-09-30</td>\n",
              "      <td>California</td>\n",
              "      <td>American</td>\n",
              "      <td>2020-06-24</td>\n",
              "      <td>1994-09-01</td>\n",
              "    </tr>\n",
              "    <tr>\n",
              "      <th>4</th>\n",
              "      <td>Joey Tribbiani</td>\n",
              "      <td>2019-03-17</td>\n",
              "      <td>USA</td>\n",
              "      <td>American</td>\n",
              "      <td>2020-06-04</td>\n",
              "      <td>1995-03-05</td>\n",
              "    </tr>\n",
              "    <tr>\n",
              "      <th>5</th>\n",
              "      <td>Amy Santiago</td>\n",
              "      <td>2019-06-03</td>\n",
              "      <td>New York</td>\n",
              "      <td>American</td>\n",
              "      <td>2020-03-09</td>\n",
              "      <td>2002-02-01</td>\n",
              "    </tr>\n",
              "    <tr>\n",
              "      <th>6</th>\n",
              "      <td>Jake P</td>\n",
              "      <td>2018-07-07</td>\n",
              "      <td>New York</td>\n",
              "      <td>American</td>\n",
              "      <td>2020-05-17</td>\n",
              "      <td>2001-03-03</td>\n",
              "    </tr>\n",
              "    <tr>\n",
              "      <th>7</th>\n",
              "      <td>Lovely Singh</td>\n",
              "      <td>2009-04-09</td>\n",
              "      <td>Chandigarh</td>\n",
              "      <td>Indian</td>\n",
              "      <td>2020-10-19</td>\n",
              "      <td>2003-02-01</td>\n",
              "    </tr>\n",
              "    <tr>\n",
              "      <th>8</th>\n",
              "      <td>Madonna P</td>\n",
              "      <td>2009-09-05</td>\n",
              "      <td>USA</td>\n",
              "      <td>French</td>\n",
              "      <td>2020-06-06</td>\n",
              "      <td>2002-03-04</td>\n",
              "    </tr>\n",
              "    <tr>\n",
              "      <th>9</th>\n",
              "      <td>Ram L</td>\n",
              "      <td>2017-10-22</td>\n",
              "      <td>New Delhi</td>\n",
              "      <td>Indian</td>\n",
              "      <td>2020-04-05</td>\n",
              "      <td>2005-05-05</td>\n",
              "    </tr>\n",
              "    <tr>\n",
              "      <th>10</th>\n",
              "      <td>Sita S</td>\n",
              "      <td>2018-05-04</td>\n",
              "      <td>New Delhi</td>\n",
              "      <td>Indian</td>\n",
              "      <td>2020-01-13</td>\n",
              "      <td>2001-01-13</td>\n",
              "    </tr>\n",
              "    <tr>\n",
              "      <th>11</th>\n",
              "      <td>Geeta Sharma</td>\n",
              "      <td>2019-02-03</td>\n",
              "      <td>Chandigarh</td>\n",
              "      <td>Indian</td>\n",
              "      <td>2020-03-21</td>\n",
              "      <td>2002-05-01</td>\n",
              "    </tr>\n",
              "    <tr>\n",
              "      <th>12</th>\n",
              "      <td>Dipika Rawat</td>\n",
              "      <td>2020-01-31</td>\n",
              "      <td>Mumbai</td>\n",
              "      <td>Indian</td>\n",
              "      <td>2020-07-19</td>\n",
              "      <td>2001-04-08</td>\n",
              "    </tr>\n",
              "  </tbody>\n",
              "</table>\n",
              "</div>"
            ],
            "text/plain": [
              "               Name     Arrival    Location Nationality   Departure    Birthday\n",
              "0   Charles Dickens  2012-05-20         USA    American  2020-04-03  2001-02-02\n",
              "1        Tom Cruise  2019-02-05         USA    American  2020-12-05  2001-01-02\n",
              "2     Jerry Jackson  2019-02-23       Paris    American  2020-04-17  1993-02-04\n",
              "3         Bob Brock  2017-09-30  California    American  2020-06-24  1994-09-01\n",
              "4    Joey Tribbiani  2019-03-17         USA    American  2020-06-04  1995-03-05\n",
              "5      Amy Santiago  2019-06-03    New York    American  2020-03-09  2002-02-01\n",
              "6            Jake P  2018-07-07    New York    American  2020-05-17  2001-03-03\n",
              "7      Lovely Singh  2009-04-09  Chandigarh      Indian  2020-10-19  2003-02-01\n",
              "8         Madonna P  2009-09-05         USA      French  2020-06-06  2002-03-04\n",
              "9             Ram L  2017-10-22   New Delhi      Indian  2020-04-05  2005-05-05\n",
              "10           Sita S  2018-05-04   New Delhi      Indian  2020-01-13  2001-01-13\n",
              "11     Geeta Sharma  2019-02-03  Chandigarh      Indian  2020-03-21  2002-05-01\n",
              "12     Dipika Rawat  2020-01-31      Mumbai      Indian  2020-07-19  2001-04-08"
            ]
          },
          "metadata": {
            "tags": []
          },
          "execution_count": 25
        }
      ]
    },
    {
      "cell_type": "code",
      "metadata": {
        "id": "GGPMNJ5JgDVs",
        "colab_type": "code",
        "colab": {
          "base_uri": "https://localhost:8080/",
          "height": 35
        },
        "outputId": "5cae99df-1166-4c83-faf9-eede7d94b024"
      },
      "source": [
        "try:\n",
        "    1/2\n",
        "    print(\"yes\")\n",
        "except:\n",
        "    print(2)"
      ],
      "execution_count": null,
      "outputs": [
        {
          "output_type": "stream",
          "text": [
            "yes\n"
          ],
          "name": "stdout"
        }
      ]
    },
    {
      "cell_type": "code",
      "metadata": {
        "id": "37Kx8UKRgM6W",
        "colab_type": "code",
        "colab": {
          "base_uri": "https://localhost:8080/",
          "height": 35
        },
        "outputId": "23951a40-4c0a-45ee-fdac-92bf66d07d5e"
      },
      "source": [
        "each_date = '7 unknown'\n",
        "\n",
        "try:\n",
        "    print(parse(each_date).date())\n",
        "except:\n",
        "    print(\"TODAY: \", date.today())"
      ],
      "execution_count": null,
      "outputs": [
        {
          "output_type": "stream",
          "text": [
            "TODAY:  2020-07-26\n"
          ],
          "name": "stdout"
        }
      ]
    },
    {
      "cell_type": "markdown",
      "metadata": {
        "id": "5Jighz50hZkG",
        "colab_type": "text"
      },
      "source": [
        "**2) Write a python function which take a dataframe as input and deals with the issue of outliers in all the continuous variables.**"
      ]
    },
    {
      "cell_type": "code",
      "metadata": {
        "id": "suKnJtAIhdvY",
        "colab_type": "code",
        "colab": {
          "base_uri": "https://localhost:8080/",
          "height": 72
        },
        "outputId": "ff6929cf-becc-4295-933f-f633f35452f0"
      },
      "source": [
        "import pandas as pd\n",
        "import numpy as np\n",
        "import seaborn as sns\n",
        "import matplotlib.pyplot as plt"
      ],
      "execution_count": null,
      "outputs": [
        {
          "output_type": "stream",
          "text": [
            "/usr/local/lib/python3.6/dist-packages/statsmodels/tools/_testing.py:19: FutureWarning: pandas.util.testing is deprecated. Use the functions in the public API at pandas.testing instead.\n",
            "  import pandas.util.testing as tm\n"
          ],
          "name": "stderr"
        }
      ]
    },
    {
      "cell_type": "code",
      "metadata": {
        "id": "FjTrXWGzi3iL",
        "colab_type": "code",
        "colab": {
          "resources": {
            "http://localhost:8080/nbextensions/google.colab/files.js": {
              "data": "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",
              "ok": true,
              "headers": [
                [
                  "content-type",
                  "application/javascript"
                ]
              ],
              "status": 200,
              "status_text": ""
            }
          },
          "base_uri": "https://localhost:8080/",
          "height": 73
        },
        "outputId": "8e34a4b6-8b0e-44e4-e0a8-30cc629e819c"
      },
      "source": [
        "from google.colab import files\n",
        "uploaded = files.upload()"
      ],
      "execution_count": null,
      "outputs": [
        {
          "output_type": "display_data",
          "data": {
            "text/html": [
              "\n",
              "     <input type=\"file\" id=\"files-cf9397b6-c144-4774-b46b-718dc85be1da\" name=\"files[]\" multiple disabled\n",
              "        style=\"border:none\" />\n",
              "     <output id=\"result-cf9397b6-c144-4774-b46b-718dc85be1da\">\n",
              "      Upload widget is only available when the cell has been executed in the\n",
              "      current browser session. Please rerun this cell to enable.\n",
              "      </output>\n",
              "      <script src=\"/nbextensions/google.colab/files.js\"></script> "
            ],
            "text/plain": [
              "<IPython.core.display.HTML object>"
            ]
          },
          "metadata": {
            "tags": []
          }
        },
        {
          "output_type": "stream",
          "text": [
            "Saving SLR+Dataset.csv to SLR+Dataset.csv\n"
          ],
          "name": "stdout"
        }
      ]
    },
    {
      "cell_type": "code",
      "metadata": {
        "id": "uFaiqwglzHB1",
        "colab_type": "code",
        "colab": {
          "base_uri": "https://localhost:8080/",
          "height": 250
        },
        "outputId": "bad3ef34-df3b-43b6-bbae-3d3e1894f224"
      },
      "source": [
        "data=pd.read_csv(\"SLR+Dataset.csv\",index_col=0)\n",
        "data.head()"
      ],
      "execution_count": null,
      "outputs": [
        {
          "output_type": "execute_result",
          "data": {
            "text/html": [
              "<div>\n",
              "<style scoped>\n",
              "    .dataframe tbody tr th:only-of-type {\n",
              "        vertical-align: middle;\n",
              "    }\n",
              "\n",
              "    .dataframe tbody tr th {\n",
              "        vertical-align: top;\n",
              "    }\n",
              "\n",
              "    .dataframe thead th {\n",
              "        text-align: right;\n",
              "    }\n",
              "</style>\n",
              "<table border=\"1\" class=\"dataframe\">\n",
              "  <thead>\n",
              "    <tr style=\"text-align: right;\">\n",
              "      <th></th>\n",
              "      <th>X1 transaction date</th>\n",
              "      <th>X2 house age</th>\n",
              "      <th>X3 distance to the nearest MRT station</th>\n",
              "      <th>X4 number of convenience stores</th>\n",
              "      <th>X5 latitude</th>\n",
              "      <th>X6 longitude</th>\n",
              "      <th>Y house price of unit area</th>\n",
              "    </tr>\n",
              "    <tr>\n",
              "      <th>No</th>\n",
              "      <th></th>\n",
              "      <th></th>\n",
              "      <th></th>\n",
              "      <th></th>\n",
              "      <th></th>\n",
              "      <th></th>\n",
              "      <th></th>\n",
              "    </tr>\n",
              "  </thead>\n",
              "  <tbody>\n",
              "    <tr>\n",
              "      <th>1</th>\n",
              "      <td>2012.917</td>\n",
              "      <td>32.0</td>\n",
              "      <td>84.87882</td>\n",
              "      <td>10</td>\n",
              "      <td>24.98298</td>\n",
              "      <td>121.54024</td>\n",
              "      <td>37.9</td>\n",
              "    </tr>\n",
              "    <tr>\n",
              "      <th>2</th>\n",
              "      <td>2012.917</td>\n",
              "      <td>19.5</td>\n",
              "      <td>306.59470</td>\n",
              "      <td>9</td>\n",
              "      <td>24.98034</td>\n",
              "      <td>121.53951</td>\n",
              "      <td>42.2</td>\n",
              "    </tr>\n",
              "    <tr>\n",
              "      <th>3</th>\n",
              "      <td>2013.583</td>\n",
              "      <td>13.3</td>\n",
              "      <td>561.98450</td>\n",
              "      <td>5</td>\n",
              "      <td>24.98746</td>\n",
              "      <td>121.54391</td>\n",
              "      <td>47.3</td>\n",
              "    </tr>\n",
              "    <tr>\n",
              "      <th>4</th>\n",
              "      <td>2013.500</td>\n",
              "      <td>13.3</td>\n",
              "      <td>561.98450</td>\n",
              "      <td>5</td>\n",
              "      <td>24.98746</td>\n",
              "      <td>121.54391</td>\n",
              "      <td>54.8</td>\n",
              "    </tr>\n",
              "    <tr>\n",
              "      <th>5</th>\n",
              "      <td>2012.833</td>\n",
              "      <td>5.0</td>\n",
              "      <td>390.56840</td>\n",
              "      <td>5</td>\n",
              "      <td>24.97937</td>\n",
              "      <td>121.54245</td>\n",
              "      <td>43.1</td>\n",
              "    </tr>\n",
              "  </tbody>\n",
              "</table>\n",
              "</div>"
            ],
            "text/plain": [
              "    X1 transaction date  X2 house age  ...  X6 longitude  Y house price of unit area\n",
              "No                                     ...                                          \n",
              "1              2012.917          32.0  ...     121.54024                        37.9\n",
              "2              2012.917          19.5  ...     121.53951                        42.2\n",
              "3              2013.583          13.3  ...     121.54391                        47.3\n",
              "4              2013.500          13.3  ...     121.54391                        54.8\n",
              "5              2012.833           5.0  ...     121.54245                        43.1\n",
              "\n",
              "[5 rows x 7 columns]"
            ]
          },
          "metadata": {
            "tags": []
          },
          "execution_count": 34
        }
      ]
    },
    {
      "cell_type": "code",
      "metadata": {
        "id": "T_t8m9auzYQi",
        "colab_type": "code",
        "colab": {}
      },
      "source": [
        "#Renaming the columns to give the better view of the data\n",
        "data.rename(columns={'X1 transaction date':'TransactionDate','X2 house age':'HouseAge','X3 distance to the nearest MRT station':'MRTStationDistance','X4 number of convenience stores':'ConvenienceStores','X5 latitude':'Latitude','X6 longitude':'Longitude','Y house price of unit area':'Price'},inplace=True)"
      ],
      "execution_count": null,
      "outputs": []
    },
    {
      "cell_type": "code",
      "metadata": {
        "id": "uIbWYvV3zo6U",
        "colab_type": "code",
        "colab": {}
      },
      "source": [
        "data['TransactionDate'] = data['TransactionDate'].apply(np.int64) #Extracting year from the Transaction Date column"
      ],
      "execution_count": null,
      "outputs": []
    },
    {
      "cell_type": "code",
      "metadata": {
        "id": "oZMlY_GpzttX",
        "colab_type": "code",
        "colab": {
          "base_uri": "https://localhost:8080/",
          "height": 69
        },
        "outputId": "f3746624-2e9e-4715-abb5-dec9b61da298"
      },
      "source": [
        "data['TransactionDate'].value_counts()"
      ],
      "execution_count": null,
      "outputs": [
        {
          "output_type": "execute_result",
          "data": {
            "text/plain": [
              "2013    288\n",
              "2012    126\n",
              "Name: TransactionDate, dtype: int64"
            ]
          },
          "metadata": {
            "tags": []
          },
          "execution_count": 37
        }
      ]
    },
    {
      "cell_type": "code",
      "metadata": {
        "id": "JdmZ_0NVzvzI",
        "colab_type": "code",
        "colab": {
          "base_uri": "https://localhost:8080/",
          "height": 260
        },
        "outputId": "5ec92a22-0cb4-41a1-d9ac-8463311a87a2"
      },
      "source": [
        "data.info()"
      ],
      "execution_count": null,
      "outputs": [
        {
          "output_type": "stream",
          "text": [
            "<class 'pandas.core.frame.DataFrame'>\n",
            "Int64Index: 414 entries, 1 to 414\n",
            "Data columns (total 7 columns):\n",
            " #   Column              Non-Null Count  Dtype  \n",
            "---  ------              --------------  -----  \n",
            " 0   TransactionDate     414 non-null    int64  \n",
            " 1   HouseAge            414 non-null    float64\n",
            " 2   MRTStationDistance  414 non-null    float64\n",
            " 3   ConvenienceStores   414 non-null    int64  \n",
            " 4   Latitude            414 non-null    float64\n",
            " 5   Longitude           414 non-null    float64\n",
            " 6   Price               414 non-null    float64\n",
            "dtypes: float64(5), int64(2)\n",
            "memory usage: 25.9 KB\n"
          ],
          "name": "stdout"
        }
      ]
    },
    {
      "cell_type": "markdown",
      "metadata": {
        "id": "iCYt9Vzez4iC",
        "colab_type": "text"
      },
      "source": [
        "- No. of rows: 414\n",
        "- No. of columns: 7 (Previously there were 8, but 1st column (no) has been converted to index.\n",
        "- Variables: We can see that all the variables are continuous."
      ]
    },
    {
      "cell_type": "code",
      "metadata": {
        "id": "ip81OmoMzzfA",
        "colab_type": "code",
        "colab": {
          "base_uri": "https://localhost:8080/",
          "height": 294
        },
        "outputId": "74d321c4-551d-4dfd-ebb2-2cef544ea5aa"
      },
      "source": [
        "#Calculate five-point summary for numerical variables\n",
        "data.describe()"
      ],
      "execution_count": null,
      "outputs": [
        {
          "output_type": "execute_result",
          "data": {
            "text/html": [
              "<div>\n",
              "<style scoped>\n",
              "    .dataframe tbody tr th:only-of-type {\n",
              "        vertical-align: middle;\n",
              "    }\n",
              "\n",
              "    .dataframe tbody tr th {\n",
              "        vertical-align: top;\n",
              "    }\n",
              "\n",
              "    .dataframe thead th {\n",
              "        text-align: right;\n",
              "    }\n",
              "</style>\n",
              "<table border=\"1\" class=\"dataframe\">\n",
              "  <thead>\n",
              "    <tr style=\"text-align: right;\">\n",
              "      <th></th>\n",
              "      <th>TransactionDate</th>\n",
              "      <th>HouseAge</th>\n",
              "      <th>MRTStationDistance</th>\n",
              "      <th>ConvenienceStores</th>\n",
              "      <th>Latitude</th>\n",
              "      <th>Longitude</th>\n",
              "      <th>Price</th>\n",
              "    </tr>\n",
              "  </thead>\n",
              "  <tbody>\n",
              "    <tr>\n",
              "      <th>count</th>\n",
              "      <td>414.000000</td>\n",
              "      <td>414.000000</td>\n",
              "      <td>414.000000</td>\n",
              "      <td>414.000000</td>\n",
              "      <td>414.000000</td>\n",
              "      <td>414.000000</td>\n",
              "      <td>414.000000</td>\n",
              "    </tr>\n",
              "    <tr>\n",
              "      <th>mean</th>\n",
              "      <td>2012.695652</td>\n",
              "      <td>17.712560</td>\n",
              "      <td>1083.885689</td>\n",
              "      <td>4.094203</td>\n",
              "      <td>24.969030</td>\n",
              "      <td>121.533361</td>\n",
              "      <td>37.980193</td>\n",
              "    </tr>\n",
              "    <tr>\n",
              "      <th>std</th>\n",
              "      <td>0.460687</td>\n",
              "      <td>11.392485</td>\n",
              "      <td>1262.109595</td>\n",
              "      <td>2.945562</td>\n",
              "      <td>0.012410</td>\n",
              "      <td>0.015347</td>\n",
              "      <td>13.606488</td>\n",
              "    </tr>\n",
              "    <tr>\n",
              "      <th>min</th>\n",
              "      <td>2012.000000</td>\n",
              "      <td>0.000000</td>\n",
              "      <td>23.382840</td>\n",
              "      <td>0.000000</td>\n",
              "      <td>24.932070</td>\n",
              "      <td>121.473530</td>\n",
              "      <td>7.600000</td>\n",
              "    </tr>\n",
              "    <tr>\n",
              "      <th>25%</th>\n",
              "      <td>2012.000000</td>\n",
              "      <td>9.025000</td>\n",
              "      <td>289.324800</td>\n",
              "      <td>1.000000</td>\n",
              "      <td>24.963000</td>\n",
              "      <td>121.528085</td>\n",
              "      <td>27.700000</td>\n",
              "    </tr>\n",
              "    <tr>\n",
              "      <th>50%</th>\n",
              "      <td>2013.000000</td>\n",
              "      <td>16.100000</td>\n",
              "      <td>492.231300</td>\n",
              "      <td>4.000000</td>\n",
              "      <td>24.971100</td>\n",
              "      <td>121.538630</td>\n",
              "      <td>38.450000</td>\n",
              "    </tr>\n",
              "    <tr>\n",
              "      <th>75%</th>\n",
              "      <td>2013.000000</td>\n",
              "      <td>28.150000</td>\n",
              "      <td>1454.279000</td>\n",
              "      <td>6.000000</td>\n",
              "      <td>24.977455</td>\n",
              "      <td>121.543305</td>\n",
              "      <td>46.600000</td>\n",
              "    </tr>\n",
              "    <tr>\n",
              "      <th>max</th>\n",
              "      <td>2013.000000</td>\n",
              "      <td>43.800000</td>\n",
              "      <td>6488.021000</td>\n",
              "      <td>10.000000</td>\n",
              "      <td>25.014590</td>\n",
              "      <td>121.566270</td>\n",
              "      <td>117.500000</td>\n",
              "    </tr>\n",
              "  </tbody>\n",
              "</table>\n",
              "</div>"
            ],
            "text/plain": [
              "       TransactionDate    HouseAge  ...   Longitude       Price\n",
              "count       414.000000  414.000000  ...  414.000000  414.000000\n",
              "mean       2012.695652   17.712560  ...  121.533361   37.980193\n",
              "std           0.460687   11.392485  ...    0.015347   13.606488\n",
              "min        2012.000000    0.000000  ...  121.473530    7.600000\n",
              "25%        2012.000000    9.025000  ...  121.528085   27.700000\n",
              "50%        2013.000000   16.100000  ...  121.538630   38.450000\n",
              "75%        2013.000000   28.150000  ...  121.543305   46.600000\n",
              "max        2013.000000   43.800000  ...  121.566270  117.500000\n",
              "\n",
              "[8 rows x 7 columns]"
            ]
          },
          "metadata": {
            "tags": []
          },
          "execution_count": 39
        }
      ]
    },
    {
      "cell_type": "markdown",
      "metadata": {
        "id": "mdGwRtKl0OKP",
        "colab_type": "text"
      },
      "source": [
        "- There are no categorical variables in the given dataset.\n",
        "\n",
        "Other Observations:\n",
        "- X3 is right skewed as mean is quite high as compared to median.\n",
        "- There are no missing values in the data set"
      ]
    },
    {
      "cell_type": "markdown",
      "metadata": {
        "id": "J7tFB6q10t3e",
        "colab_type": "text"
      },
      "source": [
        "### Do variables have missing/null values?\n"
      ]
    },
    {
      "cell_type": "code",
      "metadata": {
        "id": "UviJy62s0H1d",
        "colab_type": "code",
        "colab": {
          "base_uri": "https://localhost:8080/",
          "height": 156
        },
        "outputId": "d3b06b3c-c4d9-45be-d8dd-9fa63f38b9e1"
      },
      "source": [
        "data.isnull().sum()"
      ],
      "execution_count": null,
      "outputs": [
        {
          "output_type": "execute_result",
          "data": {
            "text/plain": [
              "TransactionDate       0\n",
              "HouseAge              0\n",
              "MRTStationDistance    0\n",
              "ConvenienceStores     0\n",
              "Latitude              0\n",
              "Longitude             0\n",
              "Price                 0\n",
              "dtype: int64"
            ]
          },
          "metadata": {
            "tags": []
          },
          "execution_count": 40
        }
      ]
    },
    {
      "cell_type": "markdown",
      "metadata": {
        "id": "mrrscKQ20x2D",
        "colab_type": "text"
      },
      "source": [
        "The variables do not have any missing or null values."
      ]
    },
    {
      "cell_type": "markdown",
      "metadata": {
        "id": "GHcmUxqx041f",
        "colab_type": "text"
      },
      "source": [
        "### Do variables have outliers?"
      ]
    },
    {
      "cell_type": "code",
      "metadata": {
        "id": "y1hZszCA0nGL",
        "colab_type": "code",
        "colab": {
          "base_uri": "https://localhost:8080/",
          "height": 69
        },
        "outputId": "6ff71639-5a2d-4108-c70d-faffd5c717f8"
      },
      "source": [
        "data.columns"
      ],
      "execution_count": null,
      "outputs": [
        {
          "output_type": "execute_result",
          "data": {
            "text/plain": [
              "Index(['TransactionDate', 'HouseAge', 'MRTStationDistance',\n",
              "       'ConvenienceStores', 'Latitude', 'Longitude', 'Price'],\n",
              "      dtype='object')"
            ]
          },
          "metadata": {
            "tags": []
          },
          "execution_count": 41
        }
      ]
    },
    {
      "cell_type": "code",
      "metadata": {
        "id": "O3yT-njg0_Hb",
        "colab_type": "code",
        "colab": {}
      },
      "source": [
        "out = ['HouseAge', 'MRTStationDistance',\n",
        "       'ConvenienceStores', 'Latitude', 'Longitude']"
      ],
      "execution_count": null,
      "outputs": []
    },
    {
      "cell_type": "code",
      "metadata": {
        "id": "j5pFdxL41KXI",
        "colab_type": "code",
        "colab": {
          "base_uri": "https://localhost:8080/",
          "height": 1000
        },
        "outputId": "c0b41c1e-8b81-4a58-9b48-da03f16354b4"
      },
      "source": [
        "for i in data[out]: #creating loop for plotting boxplots together\n",
        "    sns.boxplot(data[i])\n",
        "    print(i)\n",
        "    plt.show()"
      ],
      "execution_count": null,
      "outputs": [
        {
          "output_type": "stream",
          "text": [
            "HouseAge\n"
          ],
          "name": "stdout"
        },
        {
          "output_type": "display_data",
          "data": {
            "image/png": "[encoded data removed]",
            "text/plain": [
              "<Figure size 432x288 with 1 Axes>"
            ]
          },
          "metadata": {
            "tags": [],
            "needs_background": "light"
          }
        },
        {
          "output_type": "stream",
          "text": [
            "MRTStationDistance\n"
          ],
          "name": "stdout"
        },
        {
          "output_type": "display_data",
          "data": {
            "image/png": "[encoded data removed]",
            "text/plain": [
              "<Figure size 432x288 with 1 Axes>"
            ]
          },
          "metadata": {
            "tags": [],
            "needs_background": "light"
          }
        },
        {
          "output_type": "stream",
          "text": [
            "ConvenienceStores\n"
          ],
          "name": "stdout"
        },
        {
          "output_type": "display_data",
          "data": {
            "image/png": "[encoded data removed]",
            "text/plain": [
              "<Figure size 432x288 with 1 Axes>"
            ]
          },
          "metadata": {
            "tags": [],
            "needs_background": "light"
          }
        },
        {
          "output_type": "stream",
          "text": [
            "Latitude\n"
          ],
          "name": "stdout"
        },
        {
          "output_type": "display_data",
          "data": {
            "image/png": "[encoded data removed]",
            "text/plain": [
              "<Figure size 432x288 with 1 Axes>"
            ]
          },
          "metadata": {
            "tags": [],
            "needs_background": "light"
          }
        },
        {
          "output_type": "stream",
          "text": [
            "Longitude\n"
          ],
          "name": "stdout"
        },
        {
          "output_type": "display_data",
          "data": {
            "image/png": "[encoded data removed]",
            "text/plain": [
              "<Figure size 432x288 with 1 Axes>"
            ]
          },
          "metadata": {
            "tags": [],
            "needs_background": "light"
          }
        }
      ]
    },
    {
      "cell_type": "code",
      "metadata": {
        "id": "4PWLz6lt1Mq4",
        "colab_type": "code",
        "colab": {
          "base_uri": "https://localhost:8080/",
          "height": 1000
        },
        "outputId": "59e0b28f-ba0c-4e0e-efe8-2d666f6ea8cd"
      },
      "source": [
        "for i,e in enumerate(data.columns[1:]):\n",
        "    plt.figure(i)\n",
        "    sns.distplot(data[e])"
      ],
      "execution_count": null,
      "outputs": [
        {
          "output_type": "display_data",
          "data": {
            "image/png": "[encoded data removed]",
            "text/plain": [
              "<Figure size 432x288 with 1 Axes>"
            ]
          },
          "metadata": {
            "tags": [],
            "needs_background": "light"
          }
        },
        {
          "output_type": "display_data",
          "data": {
            "image/png": "[encoded data removed]",
            "text/plain": [
              "<Figure size 432x288 with 1 Axes>"
            ]
          },
          "metadata": {
            "tags": [],
            "needs_background": "light"
          }
        },
        {
          "output_type": "display_data",
          "data": {
            "image/png": "[encoded data removed]",
            "text/plain": [
              "<Figure size 432x288 with 1 Axes>"
            ]
          },
          "metadata": {
            "tags": [],
            "needs_background": "light"
          }
        },
        {
          "output_type": "display_data",
          "data": {
            "image/png": "[encoded data removed]",
            "text/plain": [
              "<Figure size 432x288 with 1 Axes>"
            ]
          },
          "metadata": {
            "tags": [],
            "needs_background": "light"
          }
        },
        {
          "output_type": "display_data",
          "data": {
            "image/png": "[encoded data removed]",
            "text/plain": [
              "<Figure size 432x288 with 1 Axes>"
            ]
          },
          "metadata": {
            "tags": [],
            "needs_background": "light"
          }
        },
        {
          "output_type": "display_data",
          "data": {
            "image/png": "[encoded data removed]",
            "text/plain": [
              "<Figure size 432x288 with 1 Axes>"
            ]
          },
          "metadata": {
            "tags": [],
            "needs_background": "light"
          }
        }
      ]
    },
    {
      "cell_type": "code",
      "metadata": {
        "id": "yz3Bwb722eNx",
        "colab_type": "code",
        "colab": {}
      },
      "source": [
        "import warnings\n",
        "warnings.filterwarnings(\"ignore\")"
      ],
      "execution_count": null,
      "outputs": []
    },
    {
      "cell_type": "markdown",
      "metadata": {
        "id": "LXrg8khj6BvG",
        "colab_type": "text"
      },
      "source": [
        "From the above boxplots, we can see that the outliers are present in Latitude, Longitude and MRTStation Distance."
      ]
    },
    {
      "cell_type": "code",
      "metadata": {
        "id": "Fwbzb26W5-AH",
        "colab_type": "code",
        "colab": {}
      },
      "source": [
        "def outlier_iqr(q1,q3):\n",
        "    iqr=q3-q1\n",
        "    value= iqr*1.5\n",
        "    left_outlier=q1-value\n",
        "    right_outlier=q3+value\n",
        "    return(left_outlier, right_outlier)"
      ],
      "execution_count": null,
      "outputs": []
    },
    {
      "cell_type": "code",
      "metadata": {
        "id": "pPerqYdG6GIb",
        "colab_type": "code",
        "colab": {
          "base_uri": "https://localhost:8080/",
          "height": 173
        },
        "outputId": "8cc6201a-4923-4e9e-dd25-e3e56b88e182"
      },
      "source": [
        "data['MRTStationDistance'].describe()"
      ],
      "execution_count": null,
      "outputs": [
        {
          "output_type": "execute_result",
          "data": {
            "text/plain": [
              "count     414.000000\n",
              "mean     1083.885689\n",
              "std      1262.109595\n",
              "min        23.382840\n",
              "25%       289.324800\n",
              "50%       492.231300\n",
              "75%      1454.279000\n",
              "max      6488.021000\n",
              "Name: MRTStationDistance, dtype: float64"
            ]
          },
          "metadata": {
            "tags": []
          },
          "execution_count": 47
        }
      ]
    },
    {
      "cell_type": "code",
      "metadata": {
        "id": "guk_zDC66IR0",
        "colab_type": "code",
        "colab": {
          "base_uri": "https://localhost:8080/",
          "height": 35
        },
        "outputId": "4992690d-cd0e-4462-b92e-bd8649c117b7"
      },
      "source": [
        "#MRTStationDistance upper and lower whisker\n",
        "left_outlier,right_outlier=outlier_iqr(289.324800,1454.279000)\n",
        "print(left_outlier,right_outlier)"
      ],
      "execution_count": null,
      "outputs": [
        {
          "output_type": "stream",
          "text": [
            "-1458.1065000000003 3201.7103\n"
          ],
          "name": "stdout"
        }
      ]
    },
    {
      "cell_type": "code",
      "metadata": {
        "id": "jB0iQihT6MjU",
        "colab_type": "code",
        "colab": {
          "base_uri": "https://localhost:8080/",
          "height": 35
        },
        "outputId": "40d899f1-783b-423d-e166-537159bfbd7f"
      },
      "source": [
        "mrt_outliers=data[(data['MRTStationDistance']<-1458.1065000000003) | (data['MRTStationDistance']>3201.7103)]\n",
        "mrt_outliers['MRTStationDistance'].count() #Number of outliers in MRT Station Distance"
      ],
      "execution_count": null,
      "outputs": [
        {
          "output_type": "execute_result",
          "data": {
            "text/plain": [
              "37"
            ]
          },
          "metadata": {
            "tags": []
          },
          "execution_count": 49
        }
      ]
    },
    {
      "cell_type": "code",
      "metadata": {
        "id": "RWS4ZQpk6P_h",
        "colab_type": "code",
        "colab": {}
      },
      "source": [
        "#Outlier Treatment\n",
        "mask1 = data.MRTStationDistance>3201.7103\n",
        "data.MRTStationDistance[mask1]=3201.7103\n",
        "mask2 = data.MRTStationDistance<1458.1065000000003 \n",
        "data.MRTStationDistance[mask2]=1458.1065000000003"
      ],
      "execution_count": null,
      "outputs": []
    },
    {
      "cell_type": "code",
      "metadata": {
        "id": "NqfC45P76Sw0",
        "colab_type": "code",
        "colab": {
          "base_uri": "https://localhost:8080/",
          "height": 173
        },
        "outputId": "9c29d0b1-b452-4d5f-b942-7e7b83790407"
      },
      "source": [
        "data['Latitude'].describe()"
      ],
      "execution_count": null,
      "outputs": [
        {
          "output_type": "execute_result",
          "data": {
            "text/plain": [
              "count    414.000000\n",
              "mean      24.969030\n",
              "std        0.012410\n",
              "min       24.932070\n",
              "25%       24.963000\n",
              "50%       24.971100\n",
              "75%       24.977455\n",
              "max       25.014590\n",
              "Name: Latitude, dtype: float64"
            ]
          },
          "metadata": {
            "tags": []
          },
          "execution_count": 52
        }
      ]
    },
    {
      "cell_type": "code",
      "metadata": {
        "id": "_Rpgy7Iw6cnP",
        "colab_type": "code",
        "colab": {
          "base_uri": "https://localhost:8080/",
          "height": 35
        },
        "outputId": "0a85f1e0-5efc-4692-e324-69fb4786b7e5"
      },
      "source": [
        "#Latitude upper and lower whisker\n",
        "left_outlier,right_outlier=outlier_iqr(24.963000,24.977455)\n",
        "print(left_outlier,right_outlier)"
      ],
      "execution_count": null,
      "outputs": [
        {
          "output_type": "stream",
          "text": [
            "24.941317500000004 24.999137499999996\n"
          ],
          "name": "stdout"
        }
      ]
    },
    {
      "cell_type": "code",
      "metadata": {
        "id": "ovACjPjI6lyk",
        "colab_type": "code",
        "colab": {
          "base_uri": "https://localhost:8080/",
          "height": 35
        },
        "outputId": "c962e7d3-60d7-48a4-b9e8-cbcfb8c612b3"
      },
      "source": [
        "lat_outliers=data[(data['Latitude']<24.941317500000004) | (data['Latitude']>24.999137499999996)]\n",
        "lat_outliers['Latitude'].count() #Number of outliers Latitude"
      ],
      "execution_count": null,
      "outputs": [
        {
          "output_type": "execute_result",
          "data": {
            "text/plain": [
              "8"
            ]
          },
          "metadata": {
            "tags": []
          },
          "execution_count": 54
        }
      ]
    },
    {
      "cell_type": "code",
      "metadata": {
        "id": "25nyBZDf6oSP",
        "colab_type": "code",
        "colab": {}
      },
      "source": [
        "#Outlier Treatment\n",
        "mask1 = data.Latitude>24.999137499999996\n",
        "data.Latitude[mask1]=24.999137499999996\n",
        "mask2 = data.Latitude<24.941317500000004 \n",
        "data.Latitude[mask2]=24.941317500000004"
      ],
      "execution_count": null,
      "outputs": []
    },
    {
      "cell_type": "code",
      "metadata": {
        "id": "ODo_L_5F6r-f",
        "colab_type": "code",
        "colab": {
          "base_uri": "https://localhost:8080/",
          "height": 297
        },
        "outputId": "df4ac857-1805-496b-931a-c89a7c493bdd"
      },
      "source": [
        "sns.boxplot(data.Latitude) #Outliers removed"
      ],
      "execution_count": null,
      "outputs": [
        {
          "output_type": "execute_result",
          "data": {
            "text/plain": [
              "<matplotlib.axes._subplots.AxesSubplot at 0x7fb1f4d50748>"
            ]
          },
          "metadata": {
            "tags": []
          },
          "execution_count": 56
        },
        {
          "output_type": "display_data",
          "data": {
            "image/png": "[encoded data removed]",
            "text/plain": [
              "<Figure size 432x288 with 1 Axes>"
            ]
          },
          "metadata": {
            "tags": [],
            "needs_background": "light"
          }
        }
      ]
    },
    {
      "cell_type": "code",
      "metadata": {
        "id": "_IkSao446uYX",
        "colab_type": "code",
        "colab": {
          "base_uri": "https://localhost:8080/",
          "height": 173
        },
        "outputId": "6d42bb32-4b0d-458c-fe7e-4660b093d9b9"
      },
      "source": [
        "data['Longitude'].describe()"
      ],
      "execution_count": null,
      "outputs": [
        {
          "output_type": "execute_result",
          "data": {
            "text/plain": [
              "count    414.000000\n",
              "mean     121.533361\n",
              "std        0.015347\n",
              "min      121.473530\n",
              "25%      121.528085\n",
              "50%      121.538630\n",
              "75%      121.543305\n",
              "max      121.566270\n",
              "Name: Longitude, dtype: float64"
            ]
          },
          "metadata": {
            "tags": []
          },
          "execution_count": 57
        }
      ]
    },
    {
      "cell_type": "code",
      "metadata": {
        "id": "inLpukb06xf2",
        "colab_type": "code",
        "colab": {
          "base_uri": "https://localhost:8080/",
          "height": 35
        },
        "outputId": "59486144-126f-43a7-d1f3-39ed8e479aeb"
      },
      "source": [
        "long_outliers=data[(data['Longitude']<121.528085) | (data['Longitude']>121.543305)]\n",
        "long_outliers['Longitude'].count() #Number of outliers longitude"
      ],
      "execution_count": null,
      "outputs": [
        {
          "output_type": "execute_result",
          "data": {
            "text/plain": [
              "208"
            ]
          },
          "metadata": {
            "tags": []
          },
          "execution_count": 58
        }
      ]
    },
    {
      "cell_type": "code",
      "metadata": {
        "id": "cXI_tHVA6z06",
        "colab_type": "code",
        "colab": {}
      },
      "source": [
        "#Outlier Treatment\n",
        "mask1 = data.Longitude>121.543305\n",
        "data.Longitude[mask1]=121.543305\n",
        "mask2 = data.Longitude<121.528085\n",
        "data.Longitude[mask2]=121.528085"
      ],
      "execution_count": null,
      "outputs": []
    },
    {
      "cell_type": "code",
      "metadata": {
        "id": "t4JuUqma614S",
        "colab_type": "code",
        "colab": {
          "base_uri": "https://localhost:8080/",
          "height": 297
        },
        "outputId": "cff1ebdf-0749-4254-f507-dad0606397fe"
      },
      "source": [
        "sns.boxplot(data.Longitude) #Outliers removed"
      ],
      "execution_count": null,
      "outputs": [
        {
          "output_type": "execute_result",
          "data": {
            "text/plain": [
              "<matplotlib.axes._subplots.AxesSubplot at 0x7fb1f4ca1710>"
            ]
          },
          "metadata": {
            "tags": []
          },
          "execution_count": 60
        },
        {
          "output_type": "display_data",
          "data": {
            "image/png": "[encoded data removed]",
            "text/plain": [
              "<Figure size 432x288 with 1 Axes>"
            ]
          },
          "metadata": {
            "tags": [],
            "needs_background": "light"
          }
        }
      ]
    },
    {
      "cell_type": "markdown",
      "metadata": {
        "id": "B5qPYbfS7ADN",
        "colab_type": "text"
      },
      "source": [
        "### Is the data normally distributed?"
      ]
    },
    {
      "cell_type": "code",
      "metadata": {
        "id": "NGOWJd8A658C",
        "colab_type": "code",
        "colab": {
          "base_uri": "https://localhost:8080/",
          "height": 1000
        },
        "outputId": "2756c614-8f5d-4c18-8bfe-4863fe38a9d4"
      },
      "source": [
        "data.plot(kind='kde',subplots=True,layout=(3,3),sharex=False,sharey=False,grid=True,figsize=(15,18))"
      ],
      "execution_count": null,
      "outputs": [
        {
          "output_type": "execute_result",
          "data": {
            "text/plain": [
              "array([[<matplotlib.axes._subplots.AxesSubplot object at 0x7fb1f4cf9a58>,\n",
              "        <matplotlib.axes._subplots.AxesSubplot object at 0x7fb1f4d18c18>,\n",
              "        <matplotlib.axes._subplots.AxesSubplot object at 0x7fb1f4c7ccf8>],\n",
              "       [<matplotlib.axes._subplots.AxesSubplot object at 0x7fb1f4fe1ef0>,\n",
              "        <matplotlib.axes._subplots.AxesSubplot object at 0x7fb1f57d90f0>,\n",
              "        <matplotlib.axes._subplots.AxesSubplot object at 0x7fb1f4d915c0>],\n",
              "       [<matplotlib.axes._subplots.AxesSubplot object at 0x7fb1f4d4f518>,\n",
              "        <matplotlib.axes._subplots.AxesSubplot object at 0x7fb1f519efd0>,\n",
              "        <matplotlib.axes._subplots.AxesSubplot object at 0x7fb1f519ef60>]],\n",
              "      dtype=object)"
            ]
          },
          "metadata": {
            "tags": []
          },
          "execution_count": 61
        },
        {
          "output_type": "display_data",
          "data": {
            "image/png": "[encoded data removed]",
            "text/plain": [
              "<Figure size 1080x1296 with 9 Axes>"
            ]
          },
          "metadata": {
            "tags": [],
            "needs_background": "light"
          }
        }
      ]
    },
    {
      "cell_type": "markdown",
      "metadata": {
        "id": "I1Q5mvHs7MtK",
        "colab_type": "text"
      },
      "source": [
        "The data is not normally distributed and appears to be slightly skewed."
      ]
    },
    {
      "cell_type": "markdown",
      "metadata": {
        "id": "3XLrnkMA7RP_",
        "colab_type": "text"
      },
      "source": [
        "## **Correlation**"
      ]
    },
    {
      "cell_type": "code",
      "metadata": {
        "id": "qZLIExS_7Eza",
        "colab_type": "code",
        "colab": {
          "base_uri": "https://localhost:8080/",
          "height": 263
        },
        "outputId": "da4f9f4d-df4b-4a5d-c87b-bcfd9a52035f"
      },
      "source": [
        "corr = data.corr()\n",
        "corr"
      ],
      "execution_count": null,
      "outputs": [
        {
          "output_type": "execute_result",
          "data": {
            "text/html": [
              "<div>\n",
              "<style scoped>\n",
              "    .dataframe tbody tr th:only-of-type {\n",
              "        vertical-align: middle;\n",
              "    }\n",
              "\n",
              "    .dataframe tbody tr th {\n",
              "        vertical-align: top;\n",
              "    }\n",
              "\n",
              "    .dataframe thead th {\n",
              "        text-align: right;\n",
              "    }\n",
              "</style>\n",
              "<table border=\"1\" class=\"dataframe\">\n",
              "  <thead>\n",
              "    <tr style=\"text-align: right;\">\n",
              "      <th></th>\n",
              "      <th>TransactionDate</th>\n",
              "      <th>HouseAge</th>\n",
              "      <th>MRTStationDistance</th>\n",
              "      <th>ConvenienceStores</th>\n",
              "      <th>Latitude</th>\n",
              "      <th>Longitude</th>\n",
              "      <th>Price</th>\n",
              "    </tr>\n",
              "  </thead>\n",
              "  <tbody>\n",
              "    <tr>\n",
              "      <th>TransactionDate</th>\n",
              "      <td>1.000000</td>\n",
              "      <td>0.049171</td>\n",
              "      <td>-0.000493</td>\n",
              "      <td>-0.005586</td>\n",
              "      <td>0.009288</td>\n",
              "      <td>0.029829</td>\n",
              "      <td>0.081545</td>\n",
              "    </tr>\n",
              "    <tr>\n",
              "      <th>HouseAge</th>\n",
              "      <td>0.049171</td>\n",
              "      <td>1.000000</td>\n",
              "      <td>-0.001786</td>\n",
              "      <td>0.049593</td>\n",
              "      <td>0.055848</td>\n",
              "      <td>-0.016378</td>\n",
              "      <td>-0.210567</td>\n",
              "    </tr>\n",
              "    <tr>\n",
              "      <th>MRTStationDistance</th>\n",
              "      <td>-0.000493</td>\n",
              "      <td>-0.001786</td>\n",
              "      <td>1.000000</td>\n",
              "      <td>-0.493248</td>\n",
              "      <td>-0.590397</td>\n",
              "      <td>-0.576523</td>\n",
              "      <td>-0.550730</td>\n",
              "    </tr>\n",
              "    <tr>\n",
              "      <th>ConvenienceStores</th>\n",
              "      <td>-0.005586</td>\n",
              "      <td>0.049593</td>\n",
              "      <td>-0.493248</td>\n",
              "      <td>1.000000</td>\n",
              "      <td>0.452041</td>\n",
              "      <td>0.564334</td>\n",
              "      <td>0.571005</td>\n",
              "    </tr>\n",
              "    <tr>\n",
              "      <th>Latitude</th>\n",
              "      <td>0.009288</td>\n",
              "      <td>0.055848</td>\n",
              "      <td>-0.590397</td>\n",
              "      <td>0.452041</td>\n",
              "      <td>1.000000</td>\n",
              "      <td>0.306947</td>\n",
              "      <td>0.559845</td>\n",
              "    </tr>\n",
              "    <tr>\n",
              "      <th>Longitude</th>\n",
              "      <td>0.029829</td>\n",
              "      <td>-0.016378</td>\n",
              "      <td>-0.576523</td>\n",
              "      <td>0.564334</td>\n",
              "      <td>0.306947</td>\n",
              "      <td>1.000000</td>\n",
              "      <td>0.506443</td>\n",
              "    </tr>\n",
              "    <tr>\n",
              "      <th>Price</th>\n",
              "      <td>0.081545</td>\n",
              "      <td>-0.210567</td>\n",
              "      <td>-0.550730</td>\n",
              "      <td>0.571005</td>\n",
              "      <td>0.559845</td>\n",
              "      <td>0.506443</td>\n",
              "      <td>1.000000</td>\n",
              "    </tr>\n",
              "  </tbody>\n",
              "</table>\n",
              "</div>"
            ],
            "text/plain": [
              "                    TransactionDate  HouseAge  ...  Longitude     Price\n",
              "TransactionDate            1.000000  0.049171  ...   0.029829  0.081545\n",
              "HouseAge                   0.049171  1.000000  ...  -0.016378 -0.210567\n",
              "MRTStationDistance        -0.000493 -0.001786  ...  -0.576523 -0.550730\n",
              "ConvenienceStores         -0.005586  0.049593  ...   0.564334  0.571005\n",
              "Latitude                   0.009288  0.055848  ...   0.306947  0.559845\n",
              "Longitude                  0.029829 -0.016378  ...   1.000000  0.506443\n",
              "Price                      0.081545 -0.210567  ...   0.506443  1.000000\n",
              "\n",
              "[7 rows x 7 columns]"
            ]
          },
          "metadata": {
            "tags": []
          },
          "execution_count": 62
        }
      ]
    },
    {
      "cell_type": "code",
      "metadata": {
        "id": "riIUaaSf7dVq",
        "colab_type": "code",
        "colab": {
          "base_uri": "https://localhost:8080/",
          "height": 595
        },
        "outputId": "0f0c20ce-25b4-4cd0-d7aa-1508f14e2e0b"
      },
      "source": [
        "fig, ax = plt.subplots(figsize=(8,8))\n",
        "sns.heatmap(corr, annot=True,cmap='BuPu')"
      ],
      "execution_count": null,
      "outputs": [
        {
          "output_type": "execute_result",
          "data": {
            "text/plain": [
              "<matplotlib.axes._subplots.AxesSubplot at 0x7fb1f4f44f60>"
            ]
          },
          "metadata": {
            "tags": []
          },
          "execution_count": 63
        },
        {
          "output_type": "display_data",
          "data": {
            "image/png": "[encoded data removed]",
            "text/plain": [
              "<Figure size 576x576 with 2 Axes>"
            ]
          },
          "metadata": {
            "tags": [],
            "needs_background": "light"
          }
        }
      ]
    },
    {
      "cell_type": "markdown",
      "metadata": {
        "id": "DQLf-vIG7vFR",
        "colab_type": "text"
      },
      "source": [
        "- Strong correlation with price: Longitude, Latitude and convenience stores\n",
        "- Negative Correlation: MRT Station Distance and House age\n",
        "- Transaction has very low correlation and does not impact much on price and hence, we can exclude that."
      ]
    },
    {
      "cell_type": "code",
      "metadata": {
        "id": "qluXY8do7g6h",
        "colab_type": "code",
        "colab": {
          "base_uri": "https://localhost:8080/",
          "height": 35
        },
        "outputId": "783ca3d9-62cd-4fd8-8887-281aba39f230"
      },
      "source": [
        "data.shape"
      ],
      "execution_count": null,
      "outputs": [
        {
          "output_type": "execute_result",
          "data": {
            "text/plain": [
              "(414, 7)"
            ]
          },
          "metadata": {
            "tags": []
          },
          "execution_count": 64
        }
      ]
    },
    {
      "cell_type": "markdown",
      "metadata": {
        "id": "eWMNYM9A8851",
        "colab_type": "text"
      },
      "source": [
        "**3) Write a function in python that take dataframe as input and drop columns having Pearson correlation more than 0.85**"
      ]
    },
    {
      "cell_type": "code",
      "metadata": {
        "id": "SAeUgXUx8UtD",
        "colab_type": "code",
        "colab": {}
      },
      "source": [
        "import pandas as pd\n",
        "import numpy as np\n",
        "# Create feature matrix with two highly correlated features\n",
        "\n",
        "X = np.array([[1, 1, 1],\n",
        "          [2, 2, 0],\n",
        "          [3, 3, 1],\n",
        "          [4, 4, 0],\n",
        "          [5, 5, 1],\n",
        "          [6, 6, 0],\n",
        "          [7, 7, 1],\n",
        "          [8, 7, 0],\n",
        "          [9, 7, 1]])\n",
        "\n",
        "# Convert feature matrix into DataFrame\n",
        "dp = pd.DataFrame(X,columns = ['A','B','C'])"
      ],
      "execution_count": null,
      "outputs": []
    },
    {
      "cell_type": "code",
      "metadata": {
        "id": "Jv2j1opN-52c",
        "colab_type": "code",
        "colab": {
          "base_uri": "https://localhost:8080/",
          "height": 325
        },
        "outputId": "38818f88-eee4-4c35-9674-95b258568024"
      },
      "source": [
        "# View the data frame\n",
        "dp"
      ],
      "execution_count": null,
      "outputs": [
        {
          "output_type": "execute_result",
          "data": {
            "text/html": [
              "<div>\n",
              "<style scoped>\n",
              "    .dataframe tbody tr th:only-of-type {\n",
              "        vertical-align: middle;\n",
              "    }\n",
              "\n",
              "    .dataframe tbody tr th {\n",
              "        vertical-align: top;\n",
              "    }\n",
              "\n",
              "    .dataframe thead th {\n",
              "        text-align: right;\n",
              "    }\n",
              "</style>\n",
              "<table border=\"1\" class=\"dataframe\">\n",
              "  <thead>\n",
              "    <tr style=\"text-align: right;\">\n",
              "      <th></th>\n",
              "      <th>A</th>\n",
              "      <th>B</th>\n",
              "      <th>C</th>\n",
              "    </tr>\n",
              "  </thead>\n",
              "  <tbody>\n",
              "    <tr>\n",
              "      <th>0</th>\n",
              "      <td>1</td>\n",
              "      <td>1</td>\n",
              "      <td>1</td>\n",
              "    </tr>\n",
              "    <tr>\n",
              "      <th>1</th>\n",
              "      <td>2</td>\n",
              "      <td>2</td>\n",
              "      <td>0</td>\n",
              "    </tr>\n",
              "    <tr>\n",
              "      <th>2</th>\n",
              "      <td>3</td>\n",
              "      <td>3</td>\n",
              "      <td>1</td>\n",
              "    </tr>\n",
              "    <tr>\n",
              "      <th>3</th>\n",
              "      <td>4</td>\n",
              "      <td>4</td>\n",
              "      <td>0</td>\n",
              "    </tr>\n",
              "    <tr>\n",
              "      <th>4</th>\n",
              "      <td>5</td>\n",
              "      <td>5</td>\n",
              "      <td>1</td>\n",
              "    </tr>\n",
              "    <tr>\n",
              "      <th>5</th>\n",
              "      <td>6</td>\n",
              "      <td>6</td>\n",
              "      <td>0</td>\n",
              "    </tr>\n",
              "    <tr>\n",
              "      <th>6</th>\n",
              "      <td>7</td>\n",
              "      <td>7</td>\n",
              "      <td>1</td>\n",
              "    </tr>\n",
              "    <tr>\n",
              "      <th>7</th>\n",
              "      <td>8</td>\n",
              "      <td>7</td>\n",
              "      <td>0</td>\n",
              "    </tr>\n",
              "    <tr>\n",
              "      <th>8</th>\n",
              "      <td>9</td>\n",
              "      <td>7</td>\n",
              "      <td>1</td>\n",
              "    </tr>\n",
              "  </tbody>\n",
              "</table>\n",
              "</div>"
            ],
            "text/plain": [
              "   A  B  C\n",
              "0  1  1  1\n",
              "1  2  2  0\n",
              "2  3  3  1\n",
              "3  4  4  0\n",
              "4  5  5  1\n",
              "5  6  6  0\n",
              "6  7  7  1\n",
              "7  8  7  0\n",
              "8  9  7  1"
            ]
          },
          "metadata": {
            "tags": []
          },
          "execution_count": 79
        }
      ]
    },
    {
      "cell_type": "code",
      "metadata": {
        "id": "M_Kp41h7_TDF",
        "colab_type": "code",
        "colab": {}
      },
      "source": [
        "# Create correlation matrix\n",
        "corr_matrix = dp.corr().abs()"
      ],
      "execution_count": null,
      "outputs": []
    },
    {
      "cell_type": "code",
      "metadata": {
        "id": "z21uZwl7_zL8",
        "colab_type": "code",
        "colab": {
          "base_uri": "https://localhost:8080/",
          "height": 141
        },
        "outputId": "f11ce18a-c63c-49e0-8be4-0234e8cda297"
      },
      "source": [
        "corr_matrix"
      ],
      "execution_count": null,
      "outputs": [
        {
          "output_type": "execute_result",
          "data": {
            "text/html": [
              "<div>\n",
              "<style scoped>\n",
              "    .dataframe tbody tr th:only-of-type {\n",
              "        vertical-align: middle;\n",
              "    }\n",
              "\n",
              "    .dataframe tbody tr th {\n",
              "        vertical-align: top;\n",
              "    }\n",
              "\n",
              "    .dataframe thead th {\n",
              "        text-align: right;\n",
              "    }\n",
              "</style>\n",
              "<table border=\"1\" class=\"dataframe\">\n",
              "  <thead>\n",
              "    <tr style=\"text-align: right;\">\n",
              "      <th></th>\n",
              "      <th>A</th>\n",
              "      <th>B</th>\n",
              "      <th>C</th>\n",
              "    </tr>\n",
              "  </thead>\n",
              "  <tbody>\n",
              "    <tr>\n",
              "      <th>A</th>\n",
              "      <td>1.000000</td>\n",
              "      <td>0.976103</td>\n",
              "      <td>0.000000</td>\n",
              "    </tr>\n",
              "    <tr>\n",
              "      <th>B</th>\n",
              "      <td>0.976103</td>\n",
              "      <td>1.000000</td>\n",
              "      <td>0.034503</td>\n",
              "    </tr>\n",
              "    <tr>\n",
              "      <th>C</th>\n",
              "      <td>0.000000</td>\n",
              "      <td>0.034503</td>\n",
              "      <td>1.000000</td>\n",
              "    </tr>\n",
              "  </tbody>\n",
              "</table>\n",
              "</div>"
            ],
            "text/plain": [
              "          A         B         C\n",
              "A  1.000000  0.976103  0.000000\n",
              "B  0.976103  1.000000  0.034503\n",
              "C  0.000000  0.034503  1.000000"
            ]
          },
          "metadata": {
            "tags": []
          },
          "execution_count": 81
        }
      ]
    },
    {
      "cell_type": "code",
      "metadata": {
        "id": "OryhMrHq_cp2",
        "colab_type": "code",
        "colab": {
          "base_uri": "https://localhost:8080/",
          "height": 141
        },
        "outputId": "e60e1ad7-a052-48d3-f489-f07d0d340960"
      },
      "source": [
        "# Select upper triangle of correlation matrix\n",
        "upper = corr_matrix.where(np.triu(np.ones(corr_matrix.shape), k=1).astype(np.bool))\n",
        "upper"
      ],
      "execution_count": null,
      "outputs": [
        {
          "output_type": "execute_result",
          "data": {
            "text/html": [
              "<div>\n",
              "<style scoped>\n",
              "    .dataframe tbody tr th:only-of-type {\n",
              "        vertical-align: middle;\n",
              "    }\n",
              "\n",
              "    .dataframe tbody tr th {\n",
              "        vertical-align: top;\n",
              "    }\n",
              "\n",
              "    .dataframe thead th {\n",
              "        text-align: right;\n",
              "    }\n",
              "</style>\n",
              "<table border=\"1\" class=\"dataframe\">\n",
              "  <thead>\n",
              "    <tr style=\"text-align: right;\">\n",
              "      <th></th>\n",
              "      <th>A</th>\n",
              "      <th>B</th>\n",
              "      <th>C</th>\n",
              "    </tr>\n",
              "  </thead>\n",
              "  <tbody>\n",
              "    <tr>\n",
              "      <th>A</th>\n",
              "      <td>NaN</td>\n",
              "      <td>0.976103</td>\n",
              "      <td>0.000000</td>\n",
              "    </tr>\n",
              "    <tr>\n",
              "      <th>B</th>\n",
              "      <td>NaN</td>\n",
              "      <td>NaN</td>\n",
              "      <td>0.034503</td>\n",
              "    </tr>\n",
              "    <tr>\n",
              "      <th>C</th>\n",
              "      <td>NaN</td>\n",
              "      <td>NaN</td>\n",
              "      <td>NaN</td>\n",
              "    </tr>\n",
              "  </tbody>\n",
              "</table>\n",
              "</div>"
            ],
            "text/plain": [
              "    A         B         C\n",
              "A NaN  0.976103  0.000000\n",
              "B NaN       NaN  0.034503\n",
              "C NaN       NaN       NaN"
            ]
          },
          "metadata": {
            "tags": []
          },
          "execution_count": 82
        }
      ]
    },
    {
      "cell_type": "code",
      "metadata": {
        "id": "ocP1Hcah_hAW",
        "colab_type": "code",
        "colab": {
          "base_uri": "https://localhost:8080/",
          "height": 35
        },
        "outputId": "04943f85-cdec-4529-e924-fb7030303b95"
      },
      "source": [
        "# Find index of feature columns with correlation greater than 0.85\n",
        "to_drop = [column for column in upper.columns if any(upper[column] > 0.85)]\n",
        "to_drop"
      ],
      "execution_count": null,
      "outputs": [
        {
          "output_type": "execute_result",
          "data": {
            "text/plain": [
              "['B']"
            ]
          },
          "metadata": {
            "tags": []
          },
          "execution_count": 83
        }
      ]
    },
    {
      "cell_type": "code",
      "metadata": {
        "id": "12xbtuOb_map",
        "colab_type": "code",
        "colab": {
          "base_uri": "https://localhost:8080/",
          "height": 325
        },
        "outputId": "bb2cb73a-4edb-4e9a-bef0-bd8ca1f2d34d"
      },
      "source": [
        "# Drop features \n",
        "dp.drop(dp[to_drop], axis=1)"
      ],
      "execution_count": null,
      "outputs": [
        {
          "output_type": "execute_result",
          "data": {
            "text/html": [
              "<div>\n",
              "<style scoped>\n",
              "    .dataframe tbody tr th:only-of-type {\n",
              "        vertical-align: middle;\n",
              "    }\n",
              "\n",
              "    .dataframe tbody tr th {\n",
              "        vertical-align: top;\n",
              "    }\n",
              "\n",
              "    .dataframe thead th {\n",
              "        text-align: right;\n",
              "    }\n",
              "</style>\n",
              "<table border=\"1\" class=\"dataframe\">\n",
              "  <thead>\n",
              "    <tr style=\"text-align: right;\">\n",
              "      <th></th>\n",
              "      <th>A</th>\n",
              "      <th>C</th>\n",
              "    </tr>\n",
              "  </thead>\n",
              "  <tbody>\n",
              "    <tr>\n",
              "      <th>0</th>\n",
              "      <td>1</td>\n",
              "      <td>1</td>\n",
              "    </tr>\n",
              "    <tr>\n",
              "      <th>1</th>\n",
              "      <td>2</td>\n",
              "      <td>0</td>\n",
              "    </tr>\n",
              "    <tr>\n",
              "      <th>2</th>\n",
              "      <td>3</td>\n",
              "      <td>1</td>\n",
              "    </tr>\n",
              "    <tr>\n",
              "      <th>3</th>\n",
              "      <td>4</td>\n",
              "      <td>0</td>\n",
              "    </tr>\n",
              "    <tr>\n",
              "      <th>4</th>\n",
              "      <td>5</td>\n",
              "      <td>1</td>\n",
              "    </tr>\n",
              "    <tr>\n",
              "      <th>5</th>\n",
              "      <td>6</td>\n",
              "      <td>0</td>\n",
              "    </tr>\n",
              "    <tr>\n",
              "      <th>6</th>\n",
              "      <td>7</td>\n",
              "      <td>1</td>\n",
              "    </tr>\n",
              "    <tr>\n",
              "      <th>7</th>\n",
              "      <td>8</td>\n",
              "      <td>0</td>\n",
              "    </tr>\n",
              "    <tr>\n",
              "      <th>8</th>\n",
              "      <td>9</td>\n",
              "      <td>1</td>\n",
              "    </tr>\n",
              "  </tbody>\n",
              "</table>\n",
              "</div>"
            ],
            "text/plain": [
              "   A  C\n",
              "0  1  1\n",
              "1  2  0\n",
              "2  3  1\n",
              "3  4  0\n",
              "4  5  1\n",
              "5  6  0\n",
              "6  7  1\n",
              "7  8  0\n",
              "8  9  1"
            ]
          },
          "metadata": {
            "tags": []
          },
          "execution_count": 84
        }
      ]
    },
    {
      "cell_type": "code",
      "metadata": {
        "id": "w11e-D3i_qpu",
        "colab_type": "code",
        "colab": {
          "base_uri": "https://localhost:8080/",
          "height": 87
        },
        "outputId": "978dbcfa-b7a8-44a3-9f87-09c045ac64d3"
      },
      "source": [
        "from scipy.stats import pearsonr\n",
        "\n",
        "interested = []\n",
        "no_of_corr = dict()\n",
        "its_correlators = dict()\n",
        "\n",
        "\n",
        "for first_col in dp.columns:\n",
        "    for second_col in dp.columns:\n",
        "        if(first_col != second_col):\n",
        "            corr, p_value = pearsonr(dp[first_col], dp[second_col])\n",
        "            \n",
        "            if corr > 0.85:\n",
        "                interested.append(first_col)\n",
        "                print(corr, first_col, second_col)\n",
        "                if first_col not in no_of_corr:\n",
        "                    no_of_corr[first_col] = 1\n",
        "                else:\n",
        "                    no_of_corr[first_col] += 1\n",
        "               \n",
        "                if first_col in its_correlators:\n",
        "                    its_correlators[first_col].append(second_col)\n",
        "                else:\n",
        "                    its_correlators[first_col] = [second_col]\n",
        "                    \n",
        "               \n",
        "                    \n",
        "print(no_of_corr)\n",
        "print(its_correlators)"
      ],
      "execution_count": null,
      "outputs": [
        {
          "output_type": "stream",
          "text": [
            "0.9761033642897547 A B\n",
            "0.9761033642897547 B A\n",
            "{'A': 1, 'B': 1}\n",
            "{'A': ['B'], 'B': ['A']}\n"
          ],
          "name": "stdout"
        }
      ]
    },
    {
      "cell_type": "code",
      "metadata": {
        "id": "hpUDXIEWEpPc",
        "colab_type": "code",
        "colab": {
          "base_uri": "https://localhost:8080/",
          "height": 69
        },
        "outputId": "7c6fd769-5a73-4768-bdea-c90893c2a41a"
      },
      "source": [
        "\n",
        "columns_to_drop = []\n",
        "\n",
        "while len(no_of_corr) > 0:                                   # while dictionary is not empty\n",
        "    max_corr = max(no_of_corr, key = no_of_corr.get)         # finding the row with maximum correlations to remove that first\n",
        "    print(\"The column with max correlations now: \",max_corr)\n",
        "    columns_to_drop.append(max_corr)\n",
        "    for each_correlator in its_correlators[max_corr]:      # on its removal, all its correlators will have 1 less correlation, so reducing their numbers by 1 in respective dictionary\n",
        "        if each_correlator in no_of_corr:\n",
        "            no_of_corr[each_correlator] -= 1\n",
        "    print(\"Number of correlations of: \", no_of_corr)\n",
        "    print(\"Its correlators: \", its_correlators)\n",
        "    for key in list(no_of_corr):       # if any of their \"number of correlators\" is less than 0, it needs to be removed\n",
        "        if no_of_corr[key] <= 0:\n",
        "            no_of_corr.pop(key, 'None')\n",
        "    \n",
        "    no_of_corr.pop(max_corr, 'None')     "
      ],
      "execution_count": null,
      "outputs": [
        {
          "output_type": "stream",
          "text": [
            "The column with max correlations now:  A\n",
            "Number of correlations of:  {'A': 1, 'B': 0}\n",
            "Its correlators:  {'A': ['B'], 'B': ['A']}\n"
          ],
          "name": "stdout"
        }
      ]
    },
    {
      "cell_type": "code",
      "metadata": {
        "id": "6zepDfdbE9oq",
        "colab_type": "code",
        "colab": {
          "base_uri": "https://localhost:8080/",
          "height": 35
        },
        "outputId": "25809788-b90b-43bc-fd3b-109d12bf9bac"
      },
      "source": [
        "print(columns_to_drop)"
      ],
      "execution_count": null,
      "outputs": [
        {
          "output_type": "stream",
          "text": [
            "['A']\n"
          ],
          "name": "stdout"
        }
      ]
    },
    {
      "cell_type": "code",
      "metadata": {
        "id": "FnzzOtXZFCqq",
        "colab_type": "code",
        "colab": {
          "base_uri": "https://localhost:8080/",
          "height": 325
        },
        "outputId": "f66c3be7-322f-4355-81b1-2d6112ca7ab2"
      },
      "source": [
        "dp.drop(columns_to_drop, axis=\"columns\")"
      ],
      "execution_count": null,
      "outputs": [
        {
          "output_type": "execute_result",
          "data": {
            "text/html": [
              "<div>\n",
              "<style scoped>\n",
              "    .dataframe tbody tr th:only-of-type {\n",
              "        vertical-align: middle;\n",
              "    }\n",
              "\n",
              "    .dataframe tbody tr th {\n",
              "        vertical-align: top;\n",
              "    }\n",
              "\n",
              "    .dataframe thead th {\n",
              "        text-align: right;\n",
              "    }\n",
              "</style>\n",
              "<table border=\"1\" class=\"dataframe\">\n",
              "  <thead>\n",
              "    <tr style=\"text-align: right;\">\n",
              "      <th></th>\n",
              "      <th>B</th>\n",
              "      <th>C</th>\n",
              "    </tr>\n",
              "  </thead>\n",
              "  <tbody>\n",
              "    <tr>\n",
              "      <th>0</th>\n",
              "      <td>1</td>\n",
              "      <td>1</td>\n",
              "    </tr>\n",
              "    <tr>\n",
              "      <th>1</th>\n",
              "      <td>2</td>\n",
              "      <td>0</td>\n",
              "    </tr>\n",
              "    <tr>\n",
              "      <th>2</th>\n",
              "      <td>3</td>\n",
              "      <td>1</td>\n",
              "    </tr>\n",
              "    <tr>\n",
              "      <th>3</th>\n",
              "      <td>4</td>\n",
              "      <td>0</td>\n",
              "    </tr>\n",
              "    <tr>\n",
              "      <th>4</th>\n",
              "      <td>5</td>\n",
              "      <td>1</td>\n",
              "    </tr>\n",
              "    <tr>\n",
              "      <th>5</th>\n",
              "      <td>6</td>\n",
              "      <td>0</td>\n",
              "    </tr>\n",
              "    <tr>\n",
              "      <th>6</th>\n",
              "      <td>7</td>\n",
              "      <td>1</td>\n",
              "    </tr>\n",
              "    <tr>\n",
              "      <th>7</th>\n",
              "      <td>7</td>\n",
              "      <td>0</td>\n",
              "    </tr>\n",
              "    <tr>\n",
              "      <th>8</th>\n",
              "      <td>7</td>\n",
              "      <td>1</td>\n",
              "    </tr>\n",
              "  </tbody>\n",
              "</table>\n",
              "</div>"
            ],
            "text/plain": [
              "   B  C\n",
              "0  1  1\n",
              "1  2  0\n",
              "2  3  1\n",
              "3  4  0\n",
              "4  5  1\n",
              "5  6  0\n",
              "6  7  1\n",
              "7  7  0\n",
              "8  7  1"
            ]
          },
          "metadata": {
            "tags": []
          },
          "execution_count": 89
        }
      ]
    },
    {
      "cell_type": "code",
      "metadata": {
        "id": "_tNy2-T7GAXp",
        "colab_type": "code",
        "colab": {}
      },
      "source": [
        ""
      ],
      "execution_count": null,
      "outputs": []
    }
  ]
}